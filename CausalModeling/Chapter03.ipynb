{
 "cells": [
  {
   "metadata": {},
   "cell_type": "markdown",
   "source": "### Associations, Interventions, Regressions",
   "id": "4a707b3c924e646"
  },
  {
   "cell_type": "code",
   "id": "initial_id",
   "metadata": {
    "collapsed": true,
    "ExecuteTime": {
     "end_time": "2024-10-25T12:50:13.170860Z",
     "start_time": "2024-10-25T12:50:11.048848Z"
    }
   },
   "source": [
    "import numpy as np\n",
    "import statsmodels.api as sm\n",
    "import matplotlib.pyplot as plt"
   ],
   "outputs": [],
   "execution_count": 1
  },
  {
   "metadata": {
    "ExecuteTime": {
     "end_time": "2024-10-25T12:50:51.587906Z",
     "start_time": "2024-10-25T12:50:51.579906Z"
    }
   },
   "cell_type": "code",
   "source": [
    "# set random seeds\n",
    "np.random.seed(42)\n",
    "N_SAMPLES = 5000"
   ],
   "id": "8ff4599b3c3f6c3",
   "outputs": [],
   "execution_count": 2
  },
  {
   "metadata": {
    "ExecuteTime": {
     "end_time": "2024-10-25T12:52:26.807624Z",
     "start_time": "2024-10-25T12:52:26.797693Z"
    }
   },
   "cell_type": "code",
   "source": [
    "alpha = 1.12\n",
    "beta = 0.93\n",
    "epsilon = np.random.randn(N_SAMPLES)"
   ],
   "id": "8f00a9d2e152e4ce",
   "outputs": [],
   "execution_count": 3
  },
  {
   "metadata": {
    "ExecuteTime": {
     "end_time": "2024-10-25T12:53:22.175188Z",
     "start_time": "2024-10-25T12:53:22.164795Z"
    }
   },
   "cell_type": "code",
   "source": [
    "# Data Generating Process\n",
    "X = np.random.randn(N_SAMPLES)\n",
    "y = alpha + beta * X + 0.5 * epsilon"
   ],
   "id": "e91a4ee16fa1da0d",
   "outputs": [],
   "execution_count": 4
  },
  {
   "metadata": {
    "ExecuteTime": {
     "end_time": "2024-10-25T12:54:42.714426Z",
     "start_time": "2024-10-25T12:54:42.701947Z"
    }
   },
   "cell_type": "code",
   "source": "X = sm.add_constant(X)",
   "id": "d5450e6f573a20bd",
   "outputs": [],
   "execution_count": 5
  },
  {
   "metadata": {
    "ExecuteTime": {
     "end_time": "2024-10-25T12:55:52.420689Z",
     "start_time": "2024-10-25T12:55:52.409731Z"
    }
   },
   "cell_type": "code",
   "source": "X[:5]",
   "id": "38c5a055604b06b5",
   "outputs": [
    {
     "data": {
      "text/plain": [
       "array([[ 1.        , -0.42375968],\n",
       "       [ 1.        , -0.45341411],\n",
       "       [ 1.        , -1.79564317],\n",
       "       [ 1.        , -0.33009019],\n",
       "       [ 1.        ,  0.73282908]])"
      ]
     },
     "execution_count": 7,
     "metadata": {},
     "output_type": "execute_result"
    }
   ],
   "execution_count": 7
  },
  {
   "metadata": {
    "ExecuteTime": {
     "end_time": "2024-10-25T12:57:19.047935Z",
     "start_time": "2024-10-25T12:57:18.994580Z"
    }
   },
   "cell_type": "code",
   "source": [
    "model = sm.OLS(y, X).fit()\n",
    "model.summary()"
   ],
   "id": "a20b81d8d9bc9257",
   "outputs": [
    {
     "data": {
      "text/plain": [
       "<class 'statsmodels.iolib.summary.Summary'>\n",
       "\"\"\"\n",
       "                            OLS Regression Results                            \n",
       "==============================================================================\n",
       "Dep. Variable:                      y   R-squared:                       0.780\n",
       "Model:                            OLS   Adj. R-squared:                  0.780\n",
       "Method:                 Least Squares   F-statistic:                 1.774e+04\n",
       "Date:                Fri, 25 Oct 2024   Prob (F-statistic):               0.00\n",
       "Time:                        21:57:19   Log-Likelihood:                -3610.8\n",
       "No. Observations:                5000   AIC:                             7226.\n",
       "Df Residuals:                    4998   BIC:                             7239.\n",
       "Df Model:                           1                                         \n",
       "Covariance Type:            nonrobust                                         \n",
       "==============================================================================\n",
       "                 coef    std err          t      P>|t|      [0.025      0.975]\n",
       "------------------------------------------------------------------------------\n",
       "const          1.1228      0.007    159.324      0.000       1.109       1.137\n",
       "x1             0.9291      0.007    133.210      0.000       0.915       0.943\n",
       "==============================================================================\n",
       "Omnibus:                        0.512   Durbin-Watson:                   2.026\n",
       "Prob(Omnibus):                  0.774   Jarque-Bera (JB):                0.461\n",
       "Skew:                          -0.012   Prob(JB):                        0.794\n",
       "Kurtosis:                       3.040   Cond. No.                         1.01\n",
       "==============================================================================\n",
       "\n",
       "Notes:\n",
       "[1] Standard Errors assume that the covariance matrix of the errors is correctly specified.\n",
       "\"\"\""
      ],
      "text/html": [
       "<table class=\"simpletable\">\n",
       "<caption>OLS Regression Results</caption>\n",
       "<tr>\n",
       "  <th>Dep. Variable:</th>            <td>y</td>        <th>  R-squared:         </th> <td>   0.780</td> \n",
       "</tr>\n",
       "<tr>\n",
       "  <th>Model:</th>                   <td>OLS</td>       <th>  Adj. R-squared:    </th> <td>   0.780</td> \n",
       "</tr>\n",
       "<tr>\n",
       "  <th>Method:</th>             <td>Least Squares</td>  <th>  F-statistic:       </th> <td>1.774e+04</td>\n",
       "</tr>\n",
       "<tr>\n",
       "  <th>Date:</th>             <td>Fri, 25 Oct 2024</td> <th>  Prob (F-statistic):</th>  <td>  0.00</td>  \n",
       "</tr>\n",
       "<tr>\n",
       "  <th>Time:</th>                 <td>21:57:19</td>     <th>  Log-Likelihood:    </th> <td> -3610.8</td> \n",
       "</tr>\n",
       "<tr>\n",
       "  <th>No. Observations:</th>      <td>  5000</td>      <th>  AIC:               </th> <td>   7226.</td> \n",
       "</tr>\n",
       "<tr>\n",
       "  <th>Df Residuals:</th>          <td>  4998</td>      <th>  BIC:               </th> <td>   7239.</td> \n",
       "</tr>\n",
       "<tr>\n",
       "  <th>Df Model:</th>              <td>     1</td>      <th>                     </th>     <td> </td>    \n",
       "</tr>\n",
       "<tr>\n",
       "  <th>Covariance Type:</th>      <td>nonrobust</td>    <th>                     </th>     <td> </td>    \n",
       "</tr>\n",
       "</table>\n",
       "<table class=\"simpletable\">\n",
       "<tr>\n",
       "    <td></td>       <th>coef</th>     <th>std err</th>      <th>t</th>      <th>P>|t|</th>  <th>[0.025</th>    <th>0.975]</th>  \n",
       "</tr>\n",
       "<tr>\n",
       "  <th>const</th> <td>    1.1228</td> <td>    0.007</td> <td>  159.324</td> <td> 0.000</td> <td>    1.109</td> <td>    1.137</td>\n",
       "</tr>\n",
       "<tr>\n",
       "  <th>x1</th>    <td>    0.9291</td> <td>    0.007</td> <td>  133.210</td> <td> 0.000</td> <td>    0.915</td> <td>    0.943</td>\n",
       "</tr>\n",
       "</table>\n",
       "<table class=\"simpletable\">\n",
       "<tr>\n",
       "  <th>Omnibus:</th>       <td> 0.512</td> <th>  Durbin-Watson:     </th> <td>   2.026</td>\n",
       "</tr>\n",
       "<tr>\n",
       "  <th>Prob(Omnibus):</th> <td> 0.774</td> <th>  Jarque-Bera (JB):  </th> <td>   0.461</td>\n",
       "</tr>\n",
       "<tr>\n",
       "  <th>Skew:</th>          <td>-0.012</td> <th>  Prob(JB):          </th> <td>   0.794</td>\n",
       "</tr>\n",
       "<tr>\n",
       "  <th>Kurtosis:</th>      <td> 3.040</td> <th>  Cond. No.          </th> <td>    1.01</td>\n",
       "</tr>\n",
       "</table><br/><br/>Notes:<br/>[1] Standard Errors assume that the covariance matrix of the errors is correctly specified."
      ],
      "text/latex": "\\begin{center}\n\\begin{tabular}{lclc}\n\\toprule\n\\textbf{Dep. Variable:}    &        y         & \\textbf{  R-squared:         } &     0.780   \\\\\n\\textbf{Model:}            &       OLS        & \\textbf{  Adj. R-squared:    } &     0.780   \\\\\n\\textbf{Method:}           &  Least Squares   & \\textbf{  F-statistic:       } & 1.774e+04   \\\\\n\\textbf{Date:}             & Fri, 25 Oct 2024 & \\textbf{  Prob (F-statistic):} &     0.00    \\\\\n\\textbf{Time:}             &     21:57:19     & \\textbf{  Log-Likelihood:    } &   -3610.8   \\\\\n\\textbf{No. Observations:} &        5000      & \\textbf{  AIC:               } &     7226.   \\\\\n\\textbf{Df Residuals:}     &        4998      & \\textbf{  BIC:               } &     7239.   \\\\\n\\textbf{Df Model:}         &           1      & \\textbf{                     } &             \\\\\n\\textbf{Covariance Type:}  &    nonrobust     & \\textbf{                     } &             \\\\\n\\bottomrule\n\\end{tabular}\n\\begin{tabular}{lcccccc}\n               & \\textbf{coef} & \\textbf{std err} & \\textbf{t} & \\textbf{P$> |$t$|$} & \\textbf{[0.025} & \\textbf{0.975]}  \\\\\n\\midrule\n\\textbf{const} &       1.1228  &        0.007     &   159.324  &         0.000        &        1.109    &        1.137     \\\\\n\\textbf{x1}    &       0.9291  &        0.007     &   133.210  &         0.000        &        0.915    &        0.943     \\\\\n\\bottomrule\n\\end{tabular}\n\\begin{tabular}{lclc}\n\\textbf{Omnibus:}       &  0.512 & \\textbf{  Durbin-Watson:     } &    2.026  \\\\\n\\textbf{Prob(Omnibus):} &  0.774 & \\textbf{  Jarque-Bera (JB):  } &    0.461  \\\\\n\\textbf{Skew:}          & -0.012 & \\textbf{  Prob(JB):          } &    0.794  \\\\\n\\textbf{Kurtosis:}      &  3.040 & \\textbf{  Cond. No.          } &     1.01  \\\\\n\\bottomrule\n\\end{tabular}\n%\\caption{OLS Regression Results}\n\\end{center}\n\nNotes: \\newline\n [1] Standard Errors assume that the covariance matrix of the errors is correctly specified."
     },
     "execution_count": 9,
     "metadata": {},
     "output_type": "execute_result"
    }
   ],
   "execution_count": 9
  },
  {
   "metadata": {},
   "cell_type": "markdown",
   "source": [
    "- 변수에 대해 확실하지 않다면, 변수를 대조군으로 사용하지 말라\n",
    "- 개념적으로 의미 있는 제어 변수를 사용하라\n",
    "- 독립 변수와 제어 변수 간의 관계에 대해서 비교 테스트를 수행하라\n",
    "- 제어 변수가 있는 경우와 없는 경우의 결과를 대조하라"
   ],
   "id": "e0f9d068720401e9"
  },
  {
   "metadata": {},
   "cell_type": "markdown",
   "source": "### Spuriousness",
   "id": "4343fa3c418c0d49"
  },
  {
   "metadata": {
    "ExecuteTime": {
     "end_time": "2024-10-25T13:31:05.499430Z",
     "start_time": "2024-10-25T13:31:05.467774Z"
    }
   },
   "cell_type": "code",
   "source": [
    "a = np.random.randn(N_SAMPLES)\n",
    "x = 2 * a + 0.5 * np.random.randn(N_SAMPLES)\n",
    "y = 2 * a + 0.5 * np.random.randn(N_SAMPLES)\n",
    "b = 1.5 * x + 0.75 * y"
   ],
   "id": "c24654d7580f6c1",
   "outputs": [],
   "execution_count": 10
  },
  {
   "metadata": {
    "ExecuteTime": {
     "end_time": "2024-10-25T13:32:13.556546Z",
     "start_time": "2024-10-25T13:32:13.538682Z"
    }
   },
   "cell_type": "code",
   "source": [
    "# define four model variants\n",
    "variants = [\n",
    "    [x],\n",
    "    [x, a],\n",
    "    [x, b],\n",
    "    [x, a, b]\n",
    "]"
   ],
   "id": "7c145d7ff8ab63a5",
   "outputs": [],
   "execution_count": 11
  },
  {
   "metadata": {
    "ExecuteTime": {
     "end_time": "2024-10-25T13:34:00.075640Z",
     "start_time": "2024-10-25T13:34:00.024573Z"
    }
   },
   "cell_type": "code",
   "source": [
    "# fit models iteratively and store the results\n",
    "for variant in variants :\n",
    "    X = sm.add_constant(np.stack(variant).T)\n",
    "    model = sm.OLS(y, X)\n",
    "    fitted_model = model.fit()"
   ],
   "id": "62378807304d760c",
   "outputs": [],
   "execution_count": 12
  },
  {
   "metadata": {},
   "cell_type": "markdown",
   "source": "### Structural Causal Model",
   "id": "36277e5de6fd10f5"
  },
  {
   "metadata": {
    "ExecuteTime": {
     "end_time": "2024-10-25T13:37:38.303775Z",
     "start_time": "2024-10-25T13:37:38.288578Z"
    }
   },
   "cell_type": "code",
   "source": [
    "a = np.random.randn(N_SAMPLES)\n",
    "x = 2 * a + 0.7 * np.random.randn(N_SAMPLES)\n",
    "y = 2 * a + 3 * x + 0.75 * x**2"
   ],
   "id": "1131c5e18c904c6b",
   "outputs": [],
   "execution_count": 13
  },
  {
   "metadata": {
    "ExecuteTime": {
     "end_time": "2024-10-25T13:38:23.522500Z",
     "start_time": "2024-10-25T13:38:23.495978Z"
    }
   },
   "cell_type": "code",
   "source": [
    "X = sm.add_constant(\n",
    "    np.stack([x, x**2, a]).T\n",
    ")\n",
    "model = sm.OLS(y, X).fit()"
   ],
   "id": "2c8d0d0950c78901",
   "outputs": [],
   "execution_count": 15
  },
  {
   "metadata": {
    "ExecuteTime": {
     "end_time": "2024-10-25T13:38:46.229543Z",
     "start_time": "2024-10-25T13:38:46.179093Z"
    }
   },
   "cell_type": "code",
   "source": "print(model.summary(xname = ['const','x','x^2','a']))",
   "id": "52945e5a291008a2",
   "outputs": [
    {
     "name": "stdout",
     "output_type": "stream",
     "text": [
      "                            OLS Regression Results                            \n",
      "==============================================================================\n",
      "Dep. Variable:                      y   R-squared:                       1.000\n",
      "Model:                            OLS   Adj. R-squared:                  1.000\n",
      "Method:                 Least Squares   F-statistic:                 1.028e+34\n",
      "Date:                Fri, 25 Oct 2024   Prob (F-statistic):               0.00\n",
      "Time:                        22:38:46   Log-Likelihood:             1.5891e+05\n",
      "No. Observations:                5000   AIC:                        -3.178e+05\n",
      "Df Residuals:                    4996   BIC:                        -3.178e+05\n",
      "Df Model:                           3                                         \n",
      "Covariance Type:            nonrobust                                         \n",
      "==============================================================================\n",
      "                 coef    std err          t      P>|t|      [0.025      0.975]\n",
      "------------------------------------------------------------------------------\n",
      "const       1.048e-15   6.65e-17     15.758      0.000    9.17e-16    1.18e-15\n",
      "x              3.0000   7.51e-17   3.99e+16      0.000       3.000       3.000\n",
      "x^2            0.7500   8.67e-18   8.65e+16      0.000       0.750       0.750\n",
      "a              2.0000   1.59e-16   1.26e+16      0.000       2.000       2.000\n",
      "==============================================================================\n",
      "Omnibus:                     1294.473   Durbin-Watson:                   1.677\n",
      "Prob(Omnibus):                  0.000   Jarque-Bera (JB):             4042.339\n",
      "Skew:                          -1.316   Prob(JB):                         0.00\n",
      "Kurtosis:                       6.533   Cond. No.                         24.9\n",
      "==============================================================================\n",
      "\n",
      "Notes:\n",
      "[1] Standard Errors assume that the covariance matrix of the errors is correctly specified.\n"
     ]
    }
   ],
   "execution_count": 16
  },
  {
   "metadata": {
    "ExecuteTime": {
     "end_time": "2024-10-25T13:39:20.025973Z",
     "start_time": "2024-10-25T13:39:19.729679Z"
    }
   },
   "cell_type": "code",
   "source": "plt.plot(model.fittedvalues)",
   "id": "60a5de79bfec3ae8",
   "outputs": [
    {
     "data": {
      "text/plain": [
       "[<matplotlib.lines.Line2D at 0x7fa80c8ee530>]"
      ]
     },
     "execution_count": 18,
     "metadata": {},
     "output_type": "execute_result"
    },
    {
     "data": {
      "text/plain": [
       "<Figure size 640x480 with 1 Axes>"
      ],
      "image/png": "[encoded data removed]"
     },
     "metadata": {},
     "output_type": "display_data"
    }
   ],
   "execution_count": 18
  },
  {
   "metadata": {},
   "cell_type": "code",
   "outputs": [],
   "execution_count": null,
   "source": "",
   "id": "be5c751911986eb5"
  }
 ],
 "metadata": {
  "kernelspec": {
   "display_name": "Python 3",
   "language": "python",
   "name": "python3"
  },
  "language_info": {
   "codemirror_mode": {
    "name": "ipython",
    "version": 2
   },
   "file_extension": ".py",
   "mimetype": "text/x-python",
   "name": "python",
   "nbconvert_exporter": "python",
   "pygments_lexer": "ipython2",
   "version": "2.7.6"
  }
 },
 "nbformat": 4,
 "nbformat_minor": 5
}
