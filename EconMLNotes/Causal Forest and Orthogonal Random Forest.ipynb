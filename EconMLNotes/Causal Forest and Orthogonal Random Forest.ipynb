{
 "cells": [
  {
   "metadata": {},
   "cell_type": "markdown",
   "source": [
    "## Orthogonal Random Forest and Causal Forest\n",
    "\n",
    "Causal Forests and Generalized Random Forests are a flexible method for estimating treatment effect heterogeneity with Random Forests. Orthogonal Random Forest (ORF) combines orthogonalization, a technique that effectively removes the confounding effect in two-stage estimation, with generalized random forests. Due to the orthogonalization aspect of this method, the ORF performs especially well in the presence of high-dimensional confounders."
   ],
   "id": "ed53552ba58e2b13"
  },
  {
   "cell_type": "code",
   "id": "initial_id",
   "metadata": {
    "collapsed": true,
    "ExecuteTime": {
     "end_time": "2024-10-23T13:34:23.980727Z",
     "start_time": "2024-10-23T13:34:20.311349Z"
    }
   },
   "source": [
    "from econml.orf import DMLOrthoForest, DROrthoForest\n",
    "from econml.dml import CausalForestDML\n",
    "from econml.sklearn_extensions.linear_model import WeightedLassoCVWrapper, WeightedLasso\n",
    "\n",
    "import numpy as np\n",
    "from itertools import product\n",
    "from sklearn.linear_model import Lasso, LogisticRegression\n",
    "import matplotlib.pyplot as plt"
   ],
   "outputs": [],
   "execution_count": 1
  },
  {
   "metadata": {},
   "cell_type": "markdown",
   "source": [
    "### 1. Continuous Treatment Synthetic Data\n",
    "\n",
    "#### 1.1 Data Generating Process\n",
    "\n",
    "we use the data generating process (DGP) from here. The DGP is described by the following equations\n",
    "\n",
    "$$\n",
    "\\begin{align}\n",
    "T =& \\langle W, \\beta\\rangle + \\eta, & \\;\\eta \\sim \\text{Uniform}(-1, 1)\\\\\n",
    "Y =& T\\cdot \\theta(X) + \\langle W, \\gamma\\rangle + \\epsilon, &\\; \\epsilon \\sim \\text{Uniform}(-1, 1)\\\\\n",
    "W \\sim& \\text{Normal}(0,\\, I_{n_w})\\\\\n",
    "X \\sim& \\text{Uniform}(0,1)^{n_x}\n",
    "\\end{align}\n",
    "$$\n",
    "\n",
    "where $W$ is a matrix of high-dimensional confounders and $\\beta, \\gamma$ have high sparsity.\n",
    "\n",
    "for this Data Generating Process,\n",
    "\n",
    "$$\\theta(x) = \\exp(2 \\cdot x_1)$$"
   ],
   "id": "48dac2167c1509"
  },
  {
   "metadata": {
    "ExecuteTime": {
     "end_time": "2024-10-23T13:47:10.305396Z",
     "start_time": "2024-10-23T13:47:10.288155Z"
    }
   },
   "cell_type": "code",
   "source": [
    "# Treatment effect function\n",
    "def exp_te(x) :\n",
    "    return np.exp(2 * x[0])"
   ],
   "id": "4142557f86e92d04",
   "outputs": [],
   "execution_count": 2
  },
  {
   "metadata": {
    "ExecuteTime": {
     "end_time": "2024-10-23T13:53:37.747214Z",
     "start_time": "2024-10-23T13:53:37.725469Z"
    }
   },
   "cell_type": "code",
   "source": [
    "# DGP constants\n",
    "np.random.seed(42) # set random seed\n",
    "\n",
    "n = 1000\n",
    "n_w = 30\n",
    "support_size = 5\n",
    "n_x = 1"
   ],
   "id": "41471a528fd4c66a",
   "outputs": [],
   "execution_count": 9
  },
  {
   "metadata": {
    "ExecuteTime": {
     "end_time": "2024-10-23T13:49:27.642081Z",
     "start_time": "2024-10-23T13:49:27.632413Z"
    }
   },
   "cell_type": "code",
   "source": [
    "# outcome support\n",
    "support_Y = np.random.choice(\n",
    "    range(n_w), \n",
    "    size = support_size, \n",
    "    replace = False\n",
    ")\n",
    "coefs_Y = np.random.uniform(\n",
    "    0, 1, size = support_size\n",
    ")\n",
    "\n",
    "def epsilon_sample(n) :\n",
    "    return np.random.uniform(-1, 1, size = n) # mean -1, std 1, num of obs is n"
   ],
   "id": "a9609cac5a1c671b",
   "outputs": [],
   "execution_count": 5
  },
  {
   "metadata": {
    "ExecuteTime": {
     "end_time": "2024-10-23T13:50:26.160202Z",
     "start_time": "2024-10-23T13:50:26.138535Z"
    }
   },
   "cell_type": "code",
   "source": [
    "# Treatment support\n",
    "support_T = support_Y\n",
    "coefs_T = np.random.uniform(\n",
    "    0, 1, size = support_size # mean 0, std 1, num of obs equal support size\n",
    ")\n",
    "def eta_sample(n) :\n",
    "    return np.random.uniform(-1, 1, size = n)"
   ],
   "id": "8c595633de513059",
   "outputs": [],
   "execution_count": 6
  },
  {
   "metadata": {
    "ExecuteTime": {
     "end_time": "2024-10-23T13:53:39.451626Z",
     "start_time": "2024-10-23T13:53:39.438837Z"
    }
   },
   "cell_type": "code",
   "source": [
    "# Generate controls, covariates, treatments and outcomes\n",
    "\n",
    "W = np.random.normal(0, 1, size=(n, n_w))\n",
    "X = np.random.uniform(0, 1, size=(n, n_x))"
   ],
   "id": "26cea631852e9146",
   "outputs": [],
   "execution_count": 10
  },
  {
   "metadata": {
    "ExecuteTime": {
     "end_time": "2024-10-23T13:55:30.777932Z",
     "start_time": "2024-10-23T13:55:30.761429Z"
    }
   },
   "cell_type": "code",
   "source": [
    "# Heterogeneous treatment effects\n",
    "TE = np.array(\n",
    "    [exp_te(x_i) for x_i in X]\n",
    ")\n",
    "T = np.dot(W[:, support_T], coefs_T) + eta_sample(n)\n",
    "Y = TE * T + np.dot(W[:, support_Y], coefs_Y) + epsilon_sample(n)"
   ],
   "id": "5ed1b640ee5a0cd5",
   "outputs": [],
   "execution_count": 12
  },
  {
   "metadata": {
    "ExecuteTime": {
     "end_time": "2024-10-23T13:56:53.109529Z",
     "start_time": "2024-10-23T13:56:53.098737Z"
    }
   },
   "cell_type": "code",
   "source": [
    "# Orthogonal Random Forest parameters and test data\n",
    "subsample_ratio = 0.3\n",
    "lambda_reg = np.sqrt(np.log(n_w) / (10 * subsample_ratio * n))\n",
    "X_test = np.array(\n",
    "    list(product(np.arange(0, 1, 0.01), repeat=n_x))\n",
    ")"
   ],
   "id": "ece804e56b87e578",
   "outputs": [],
   "execution_count": 13
  },
  {
   "metadata": {},
   "cell_type": "markdown",
   "source": [
    "#### 1.2 Train Estimator\n",
    "\n",
    "**Note** : The models in the final stage of the estimation (`model_T_final`, `model_Y_final`) need to support sample weighting.\n",
    "\n",
    "If the models of choice do not support sample weights (e.g. `sklearn.linear_model.LassoCV`), the `econml` packages provides a convenient wrapper for these models `WeightedModelWrapper` in order to allow sample weights."
   ],
   "id": "6580f92d54f42008"
  },
  {
   "metadata": {
    "ExecuteTime": {
     "end_time": "2024-10-23T14:12:08.850030Z",
     "start_time": "2024-10-23T14:12:08.833904Z"
    }
   },
   "cell_type": "code",
   "source": [
    "dml_forest = DMLOrthoForest(\n",
    "    n_trees = 1000,\n",
    "    min_leaf_size = 5,\n",
    "    max_depth = 50,\n",
    "    subsample_ratio = subsample_ratio,\n",
    "    model_T = Lasso(alpha = lambda_reg, max_iter = 10000),\n",
    "    model_Y = Lasso(alpha = lambda_reg, max_iter = 10000),\n",
    "    model_T_final = WeightedLasso(alpha = lambda_reg, max_iter = 10000),\n",
    "    model_Y_final = WeightedLasso(alpha = lambda_reg, max_iter = 10000),\n",
    "    global_residualization = False,\n",
    "    random_state = 42\n",
    ")"
   ],
   "id": "e32bf01868e156ce",
   "outputs": [],
   "execution_count": 23
  },
  {
   "metadata": {},
   "cell_type": "markdown",
   "source": "To use the built-in confidence intervals constructed via Bootstrap of Little Bags, we can specify `inference=\"blb\"` at `fit` time or leave the default `inference='auto'` which will automatically use the Bootstrap of Little Bags.",
   "id": "bee72bf994abcfe5"
  },
  {
   "metadata": {
    "ExecuteTime": {
     "end_time": "2024-10-23T14:12:26.483671Z",
     "start_time": "2024-10-23T14:12:20.585001Z"
    }
   },
   "cell_type": "code",
   "source": [
    "dml_forest.fit(\n",
    "    Y = Y, \n",
    "    T = T,\n",
    "    X = X,\n",
    "    W = W,\n",
    "    inference = 'blb',\n",
    ")"
   ],
   "id": "b2dc094ee2bd4a91",
   "outputs": [
    {
     "name": "stderr",
     "output_type": "stream",
     "text": [
      "[Parallel(n_jobs=-1)]: Using backend LokyBackend with 8 concurrent workers.\n",
      "[Parallel(n_jobs=-1)]: Done  16 tasks      | elapsed:    0.2s\n",
      "[Parallel(n_jobs=-1)]: Done 624 tasks      | elapsed:    2.1s\n",
      "[Parallel(n_jobs=-1)]: Done 1000 out of 1000 | elapsed:    2.9s finished\n",
      "[Parallel(n_jobs=-1)]: Using backend LokyBackend with 8 concurrent workers.\n",
      "[Parallel(n_jobs=-1)]: Done  16 tasks      | elapsed:    0.1s\n",
      "[Parallel(n_jobs=-1)]: Done 843 tasks      | elapsed:    2.3s\n",
      "[Parallel(n_jobs=-1)]: Done 1000 out of 1000 | elapsed:    2.6s finished\n"
     ]
    },
    {
     "data": {
      "text/plain": [
       "<econml.orf._ortho_forest.DMLOrthoForest at 0x7fd45aae2980>"
      ]
     },
     "execution_count": 24,
     "metadata": {},
     "output_type": "execute_result"
    }
   ],
   "execution_count": 24
  },
  {
   "metadata": {
    "ExecuteTime": {
     "end_time": "2024-10-23T14:13:09.961522Z",
     "start_time": "2024-10-23T14:12:57.062300Z"
    }
   },
   "cell_type": "code",
   "source": [
    "# calculate treatment effects\n",
    "treatment_effects = dml_forest.effect(\n",
    "    X_test\n",
    ")"
   ],
   "id": "da4938f622431962",
   "outputs": [
    {
     "name": "stderr",
     "output_type": "stream",
     "text": [
      "[Parallel(n_jobs=-1)]: Using backend LokyBackend with 8 concurrent workers.\n",
      "[Parallel(n_jobs=-1)]: Done  16 tasks      | elapsed:   12.1s\n",
      "[Parallel(n_jobs=-1)]: Done 100 out of 100 | elapsed:   12.9s finished\n"
     ]
    }
   ],
   "execution_count": 25
  },
  {
   "metadata": {
    "ExecuteTime": {
     "end_time": "2024-10-23T14:15:00.499414Z",
     "start_time": "2024-10-23T14:14:58.352789Z"
    }
   },
   "cell_type": "code",
   "source": [
    "# calculate default (95%) confidence intervals for the test data\n",
    "te_lower, te_upper = dml_forest.effect_interval(X_test)"
   ],
   "id": "4b7d516caab46240",
   "outputs": [
    {
     "name": "stderr",
     "output_type": "stream",
     "text": [
      "[Parallel(n_jobs=-1)]: Using backend LokyBackend with 8 concurrent workers.\n",
      "[Parallel(n_jobs=-1)]: Done  17 tasks      | elapsed:    0.8s\n",
      "[Parallel(n_jobs=-1)]: Done 100 out of 100 | elapsed:    2.1s finished\n"
     ]
    }
   ],
   "execution_count": 26
  },
  {
   "metadata": {
    "ExecuteTime": {
     "end_time": "2024-10-23T14:15:31.386735Z",
     "start_time": "2024-10-23T14:15:29.308947Z"
    }
   },
   "cell_type": "code",
   "source": "res = dml_forest.effect_inference(X_test)",
   "id": "9fda451420a12c5c",
   "outputs": [
    {
     "name": "stderr",
     "output_type": "stream",
     "text": [
      "[Parallel(n_jobs=-1)]: Using backend LokyBackend with 8 concurrent workers.\n",
      "[Parallel(n_jobs=-1)]: Done  18 tasks      | elapsed:    1.1s\n",
      "[Parallel(n_jobs=-1)]: Done 100 out of 100 | elapsed:    2.1s finished\n"
     ]
    }
   ],
   "execution_count": 27
  },
  {
   "metadata": {
    "ExecuteTime": {
     "end_time": "2024-10-23T14:15:59.801796Z",
     "start_time": "2024-10-23T14:15:59.706522Z"
    }
   },
   "cell_type": "code",
   "source": "res.summary_frame().head()",
   "id": "cdd045746d2c6fd3",
   "outputs": [
    {
     "data": {
      "text/plain": [
       "   point_estimate  stderr  zstat  pvalue  ci_lower  ci_upper\n",
       "X                                                           \n",
       "0           1.188   0.183  6.491     0.0     0.829     1.547\n",
       "1           1.198   0.178  6.728     0.0     0.849     1.546\n",
       "2           1.207   0.173  6.965     0.0     0.867     1.547\n",
       "3           1.216   0.169  7.198     0.0     0.885     1.548\n",
       "4           1.226   0.165  7.425     0.0     0.902     1.550"
      ],
      "text/html": [
       "<div>\n",
       "<style scoped>\n",
       "    .dataframe tbody tr th:only-of-type {\n",
       "        vertical-align: middle;\n",
       "    }\n",
       "\n",
       "    .dataframe tbody tr th {\n",
       "        vertical-align: top;\n",
       "    }\n",
       "\n",
       "    .dataframe thead th {\n",
       "        text-align: right;\n",
       "    }\n",
       "</style>\n",
       "<table border=\"1\" class=\"dataframe\">\n",
       "  <thead>\n",
       "    <tr style=\"text-align: right;\">\n",
       "      <th></th>\n",
       "      <th>point_estimate</th>\n",
       "      <th>stderr</th>\n",
       "      <th>zstat</th>\n",
       "      <th>pvalue</th>\n",
       "      <th>ci_lower</th>\n",
       "      <th>ci_upper</th>\n",
       "    </tr>\n",
       "    <tr>\n",
       "      <th>X</th>\n",
       "      <th></th>\n",
       "      <th></th>\n",
       "      <th></th>\n",
       "      <th></th>\n",
       "      <th></th>\n",
       "      <th></th>\n",
       "    </tr>\n",
       "  </thead>\n",
       "  <tbody>\n",
       "    <tr>\n",
       "      <th>0</th>\n",
       "      <td>1.188</td>\n",
       "      <td>0.183</td>\n",
       "      <td>6.491</td>\n",
       "      <td>0.0</td>\n",
       "      <td>0.829</td>\n",
       "      <td>1.547</td>\n",
       "    </tr>\n",
       "    <tr>\n",
       "      <th>1</th>\n",
       "      <td>1.198</td>\n",
       "      <td>0.178</td>\n",
       "      <td>6.728</td>\n",
       "      <td>0.0</td>\n",
       "      <td>0.849</td>\n",
       "      <td>1.546</td>\n",
       "    </tr>\n",
       "    <tr>\n",
       "      <th>2</th>\n",
       "      <td>1.207</td>\n",
       "      <td>0.173</td>\n",
       "      <td>6.965</td>\n",
       "      <td>0.0</td>\n",
       "      <td>0.867</td>\n",
       "      <td>1.547</td>\n",
       "    </tr>\n",
       "    <tr>\n",
       "      <th>3</th>\n",
       "      <td>1.216</td>\n",
       "      <td>0.169</td>\n",
       "      <td>7.198</td>\n",
       "      <td>0.0</td>\n",
       "      <td>0.885</td>\n",
       "      <td>1.548</td>\n",
       "    </tr>\n",
       "    <tr>\n",
       "      <th>4</th>\n",
       "      <td>1.226</td>\n",
       "      <td>0.165</td>\n",
       "      <td>7.425</td>\n",
       "      <td>0.0</td>\n",
       "      <td>0.902</td>\n",
       "      <td>1.550</td>\n",
       "    </tr>\n",
       "  </tbody>\n",
       "</table>\n",
       "</div>"
      ]
     },
     "execution_count": 28,
     "metadata": {},
     "output_type": "execute_result"
    }
   ],
   "execution_count": 28
  },
  {
   "metadata": {
    "ExecuteTime": {
     "end_time": "2024-10-23T14:19:09.818503Z",
     "start_time": "2024-10-23T14:19:09.764636Z"
    }
   },
   "cell_type": "code",
   "source": "print(res.population_summary())",
   "id": "2cb8f4d3cae68f6f",
   "outputs": [
    {
     "name": "stdout",
     "output_type": "stream",
     "text": [
      "               Uncertainty of Mean Point Estimate               \n",
      "================================================================\n",
      "mean_point stderr_mean zstat  pvalue ci_mean_lower ci_mean_upper\n",
      "----------------------------------------------------------------\n",
      "     3.176       0.286 11.122    0.0         2.617         3.736\n",
      "      Distribution of Point Estimate     \n",
      "=========================================\n",
      "std_point pct_point_lower pct_point_upper\n",
      "-----------------------------------------\n",
      "    1.728           1.212           6.546\n",
      "     Total Variance of Point Estimate     \n",
      "==========================================\n",
      "stderr_point ci_point_lower ci_point_upper\n",
      "------------------------------------------\n",
      "       1.752          1.102          6.804\n",
      "------------------------------------------\n",
      "\n",
      "Note: The stderr_mean is a conservative upper bound.\n"
     ]
    }
   ],
   "execution_count": 30
  },
  {
   "metadata": {},
   "cell_type": "markdown",
   "source": "Similarly we can estimate effects and get confidence intervals and inference results using a `CausalForest`.",
   "id": "fee1f2c254150c1f"
  },
  {
   "metadata": {
    "ExecuteTime": {
     "end_time": "2024-10-23T14:24:36.891683Z",
     "start_time": "2024-10-23T14:24:36.886312Z"
    }
   },
   "cell_type": "code",
   "source": [
    "causal_forest = CausalForestDML(\n",
    "    model_t = Lasso(alpha = lambda_reg, max_iter = 10000),\n",
    "    model_y = Lasso(alpha = lambda_reg, max_iter = 10000),\n",
    "    n_estimators = 4000,\n",
    "    min_samples_leaf = 5,\n",
    "    max_depth = 50,\n",
    "    verbose = 0,\n",
    "    random_state = 42\n",
    ")"
   ],
   "id": "13569c33928feac7",
   "outputs": [],
   "execution_count": 32
  },
  {
   "metadata": {
    "ExecuteTime": {
     "end_time": "2024-10-23T14:24:56.324040Z",
     "start_time": "2024-10-23T14:24:52.268105Z"
    }
   },
   "cell_type": "code",
   "source": [
    "causal_forest.tune(\n",
    "    Y = Y, \n",
    "    T = T, \n",
    "    X = X, \n",
    "    W = W\n",
    ")\n",
    "causal_forest.fit(\n",
    "    Y = Y, \n",
    "    T = T, \n",
    "    X = X, \n",
    "    W = W\n",
    ")"
   ],
   "id": "c9198355ba6a9b10",
   "outputs": [
    {
     "data": {
      "text/plain": [
       "<econml.dml.causal_forest.CausalForestDML at 0x7fd47eb698a0>"
      ]
     },
     "execution_count": 33,
     "metadata": {},
     "output_type": "execute_result"
    }
   ],
   "execution_count": 33
  },
  {
   "metadata": {
    "ExecuteTime": {
     "end_time": "2024-10-23T14:25:27.152926Z",
     "start_time": "2024-10-23T14:25:26.224371Z"
    }
   },
   "cell_type": "code",
   "source": [
    "treatment_effects2 = causal_forest.effect(X_test)\n",
    "te_lower2, te_upper2 = causal_forest.effect_interval(\n",
    "    X_test, \n",
    "    alpha = 0.01\n",
    ")"
   ],
   "id": "2be6aad003abd422",
   "outputs": [],
   "execution_count": 34
  },
  {
   "metadata": {},
   "cell_type": "markdown",
   "source": "#### 1.3 Performance Visulaization",
   "id": "3a6aeaa9b0be6553"
  },
  {
   "metadata": {
    "ExecuteTime": {
     "end_time": "2024-10-23T14:35:22.543808Z",
     "start_time": "2024-10-23T14:35:22.176662Z"
    }
   },
   "cell_type": "code",
   "source": [
    "fig, (ax1, ax2) = plt.subplots(1, 2, figsize = (10, 5))\n",
    "\n",
    "ax1.set_title('Continuous Orthogonal Random Forest')\n",
    "ax1.plot(\n",
    "    X_test, treatment_effects, label = 'ORF estimates'\n",
    ")\n",
    "expected_te = np.array([exp_te(x_i) for x_i in X_test])\n",
    "ax1.plot(\n",
    "    X_test[:, 0], expected_te, ls = '--', color = 'tab:blue', label='True effect'\n",
    ")\n",
    "ax1.fill_between(\n",
    "    X_test[:, 0], \n",
    "    te_lower, te_upper,\n",
    "    label = \"95% BLB CI\", \n",
    "    alpha = 0.3\n",
    ")\n",
    "ax1.set_ylabel('Treatment effect')\n",
    "ax1.set_xlabel('x')\n",
    "for spine in ax1.spines.values():\n",
    "    spine.set_visible(False)\n",
    "ax1.grid(False)\n",
    "ax1.yaxis.grid(True, ls = ':', alpha = 0.5) \n",
    "ax1.legend()\n",
    "\n",
    "ax2.set_title('Causal Forest')\n",
    "ax2.plot(\n",
    "    X_test, treatment_effects2, label = 'Causal Forest estimates'\n",
    ")\n",
    "expected_te = np.array([exp_te(x_i) for x_i in X_test])\n",
    "ax2.plot(\n",
    "    X_test[:, 0], expected_te, ls = '--', color = 'tab:blue', label='True effect'\n",
    ")\n",
    "ax2.fill_between(\n",
    "    X_test[:, 0], \n",
    "    te_lower2, te_upper2, \n",
    "    label=\"95% BLB CI\",\n",
    "    alpha=0.3\n",
    ")\n",
    "ax2.set_ylabel('Treatment effect')\n",
    "ax2.set_xlabel('x')\n",
    "for spine in ax2.spines.values():\n",
    "    spine.set_visible(False)\n",
    "ax2.grid(False)\n",
    "ax2.yaxis.grid(True, ls = ':', alpha = 0.5) \n",
    "ax2.legend()\n",
    "plt.show()"
   ],
   "id": "b845c1b34801772c",
   "outputs": [
    {
     "data": {
      "text/plain": [
       "<Figure size 1000x500 with 2 Axes>"
      ],
      "image/png": "[encoded data removed]"
     },
     "metadata": {},
     "output_type": "display_data"
    }
   ],
   "execution_count": 42
  },
  {
   "metadata": {},
   "cell_type": "markdown",
   "source": [
    "### 2. Using with Binary Treatment Synthetic Data\n",
    "\n",
    "#### 2.1 Data Generating Process\n",
    "\n",
    "We use the following DGP:\n",
    "\n",
    "$$\\begin{align}\n",
    "T \\sim & \\text{Bernoulli}\\left(f(W)\\right), &\\; f(W)=\\sigma(\\langle W, \\beta\\rangle + \\eta), \\;\\eta \\sim \\text{Uniform}(-1, 1)\\\\\n",
    "Y = & T\\cdot \\theta(X) + \\langle W, \\gamma\\rangle + \\epsilon, & \\; \\epsilon \\sim \\text{Uniform}(-1, 1)\\\\\n",
    "W \\sim & \\text{Normal}(0,\\, I_{n_w}) & \\\\\n",
    "X \\sim & \\text{Uniform}(0,\\, 1)^{n_x}\n",
    "\\end{align}$$\n",
    "\n",
    "where $W$ is a matrix of high-dimensional confounders, $\\beta, \\gamma$ have high sparsity and $\\sigma$ is the sigmoid function.\n",
    "\n",
    "For this DGP, \n",
    "\\begin{align}\n",
    "\\theta(x) = \\exp( 2\\cdot x_1 ).\n",
    "\\end{align}"
   ],
   "id": "3ac881de433005d2"
  },
  {
   "metadata": {
    "ExecuteTime": {
     "end_time": "2024-10-23T15:01:51.375731Z",
     "start_time": "2024-10-23T15:01:51.326197Z"
    }
   },
   "cell_type": "code",
   "source": [
    "# Data Generating Process constants\n",
    "np.random.seed(42)\n",
    "n = 1000\n",
    "n_w = 30\n",
    "support_size = 5\n",
    "n_x = 1"
   ],
   "id": "6e6e3dd42410f396",
   "outputs": [],
   "execution_count": 43
  },
  {
   "metadata": {
    "ExecuteTime": {
     "end_time": "2024-10-23T15:02:35.100655Z",
     "start_time": "2024-10-23T15:02:35.063317Z"
    }
   },
   "cell_type": "code",
   "source": [
    "# OUtcome support\n",
    "support_Y = np.random.choice(\n",
    "    range(n_w), \n",
    "    size = support_size, \n",
    "    replace = False\n",
    ")\n",
    "coefs_Y = np.random.uniform(\n",
    "    0, 1, \n",
    "    size = support_size\n",
    ")\n",
    "def epsilon_sample(n):\n",
    "    return np.random.uniform(-1, 1, size=n)"
   ],
   "id": "ff8618ba5feca81a",
   "outputs": [],
   "execution_count": 44
  },
  {
   "metadata": {
    "ExecuteTime": {
     "end_time": "2024-10-23T15:03:40.913099Z",
     "start_time": "2024-10-23T15:03:40.902253Z"
    }
   },
   "cell_type": "code",
   "source": [
    "# Treatment support\n",
    "support_T = support_Y\n",
    "coefs_T = np.random.uniform(\n",
    "    0, 1, \n",
    "    size = support_size\n",
    ")\n",
    "def eta_sample(n):\n",
    "    return np.random.uniform(-1, 1, size = n)"
   ],
   "id": "1b1b735b9c906024",
   "outputs": [],
   "execution_count": 45
  },
  {
   "metadata": {
    "ExecuteTime": {
     "end_time": "2024-10-23T15:04:22.788721Z",
     "start_time": "2024-10-23T15:04:22.770707Z"
    }
   },
   "cell_type": "code",
   "source": [
    "# Generate controls, covariates, treatments and outcomes\n",
    "W = np.random.normal(0, 1, size=(n, n_w))\n",
    "X = np.random.uniform(0, 1, size=(n, n_x))"
   ],
   "id": "702f1f8f2a103793",
   "outputs": [],
   "execution_count": 46
  },
  {
   "metadata": {
    "ExecuteTime": {
     "end_time": "2024-10-23T15:04:29.709377Z",
     "start_time": "2024-10-23T15:04:29.690248Z"
    }
   },
   "cell_type": "code",
   "source": [
    "# Heterogeneous treatment effects\n",
    "TE = np.array([exp_te(x_i) for x_i in X])"
   ],
   "id": "920ce561b6788b3f",
   "outputs": [],
   "execution_count": 47
  },
  {
   "metadata": {
    "ExecuteTime": {
     "end_time": "2024-10-23T15:04:36.707987Z",
     "start_time": "2024-10-23T15:04:36.680719Z"
    }
   },
   "cell_type": "code",
   "source": [
    "# Define treatment\n",
    "log_odds = np.dot(W[:, support_T], coefs_T) + eta_sample(n)\n",
    "T_sigmoid = 1/(1 + np.exp(-log_odds))\n",
    "T = np.array([np.random.binomial(1, p) for p in T_sigmoid])"
   ],
   "id": "a6f9f2857ae339d5",
   "outputs": [],
   "execution_count": 48
  },
  {
   "metadata": {
    "ExecuteTime": {
     "end_time": "2024-10-23T15:04:42.279658Z",
     "start_time": "2024-10-23T15:04:42.260547Z"
    }
   },
   "cell_type": "code",
   "source": [
    "# Define the outcome\n",
    "Y = TE * T + np.dot(W[:, support_Y], coefs_Y) + epsilon_sample(n)"
   ],
   "id": "9428b618b92edb09",
   "outputs": [],
   "execution_count": 49
  },
  {
   "metadata": {
    "ExecuteTime": {
     "end_time": "2024-10-23T15:05:03.719294Z",
     "start_time": "2024-10-23T15:05:03.712385Z"
    }
   },
   "cell_type": "code",
   "source": [
    "# ORF parameters and test data\n",
    "subsample_ratio = 0.4\n",
    "X_test = np.array(\n",
    "    list(product(np.arange(0, 1, 0.01), repeat = n_x))\n",
    ")"
   ],
   "id": "7d8ec9de86781216",
   "outputs": [],
   "execution_count": 50
  },
  {
   "metadata": {},
   "cell_type": "markdown",
   "source": "#### 2.2 Train Estimator",
   "id": "7f8f3660cc05c0c9"
  },
  {
   "metadata": {
    "ExecuteTime": {
     "end_time": "2024-10-23T15:15:42.378263Z",
     "start_time": "2024-10-23T15:15:42.320077Z"
    }
   },
   "cell_type": "code",
   "source": [
    "ortho_forest_bin = DROrthoForest(\n",
    "    n_trees = 200,\n",
    "    min_leaf_size = 10,\n",
    "    max_depth = 30,\n",
    "    subsample_ratio = subsample_ratio,\n",
    "    propensity_model = LogisticRegression(\n",
    "        C = 1/(X.shape[0] * lambda_reg), \n",
    "        penalty = 'l1',\n",
    "        solver = 'saga'\n",
    "    ),\n",
    "    model_Y = Lasso(alpha = lambda_reg, max_iter = 10000),\n",
    "    propensity_model_final = LogisticRegression(\n",
    "        C = 1 / (X.shape[0] * lambda_reg), \n",
    "        penalty = 'l1',\n",
    "        solver = 'saga'\n",
    "    ),\n",
    "    model_Y_final = WeightedLasso(alpha = lambda_reg, max_iter = 10000),\n",
    ")"
   ],
   "id": "329d0989620e72cc",
   "outputs": [],
   "execution_count": 51
  },
  {
   "metadata": {
    "ExecuteTime": {
     "end_time": "2024-10-23T15:16:05.113172Z",
     "start_time": "2024-10-23T15:15:52.749066Z"
    }
   },
   "cell_type": "code",
   "source": [
    "ortho_forest_bin.fit(\n",
    "    Y = Y, T = T, X = X, W = W\n",
    ")"
   ],
   "id": "1e9b4b1ed46e315c",
   "outputs": [
    {
     "name": "stderr",
     "output_type": "stream",
     "text": [
      "[Parallel(n_jobs=-1)]: Using backend LokyBackend with 8 concurrent workers.\n",
      "[Parallel(n_jobs=-1)]: Done  16 tasks      | elapsed:   11.0s\n",
      "[Parallel(n_jobs=-1)]: Done 176 tasks      | elapsed:   11.6s\n",
      "[Parallel(n_jobs=-1)]: Done 200 out of 200 | elapsed:   11.7s finished\n",
      "[Parallel(n_jobs=-1)]: Using backend LokyBackend with 8 concurrent workers.\n",
      "[Parallel(n_jobs=-1)]: Done  16 tasks      | elapsed:    0.1s\n",
      "[Parallel(n_jobs=-1)]: Done 200 out of 200 | elapsed:    0.6s finished\n"
     ]
    },
    {
     "data": {
      "text/plain": [
       "<econml.orf._ortho_forest.DROrthoForest at 0x7fd46bf63d90>"
      ]
     },
     "execution_count": 52,
     "metadata": {},
     "output_type": "execute_result"
    }
   ],
   "execution_count": 52
  },
  {
   "metadata": {
    "ExecuteTime": {
     "end_time": "2024-10-23T15:17:30.924672Z",
     "start_time": "2024-10-23T15:17:12.506702Z"
    }
   },
   "cell_type": "code",
   "source": [
    "# Calculate treatment effects for the default treatment points T0=0 and T1=1\n",
    "treatment_effects = ortho_forest_bin.effect(X_test)"
   ],
   "id": "976e74ef8a794f1",
   "outputs": [
    {
     "name": "stderr",
     "output_type": "stream",
     "text": [
      "[Parallel(n_jobs=-1)]: Using backend LokyBackend with 8 concurrent workers.\n",
      "[Parallel(n_jobs=-1)]: Done  16 tasks      | elapsed:   17.9s\n",
      "[Parallel(n_jobs=-1)]: Done 100 out of 100 | elapsed:   18.4s finished\n"
     ]
    }
   ],
   "execution_count": 53
  },
  {
   "metadata": {
    "ExecuteTime": {
     "end_time": "2024-10-23T15:17:31.664910Z",
     "start_time": "2024-10-23T15:17:30.928909Z"
    }
   },
   "cell_type": "code",
   "source": [
    "# Calculate default (95%) confidence intervals for the default treatment points T0=0 and T1=1\n",
    "te_lower, te_upper = ortho_forest_bin.effect_interval(X_test)"
   ],
   "id": "14623a3bcc01df73",
   "outputs": [
    {
     "name": "stderr",
     "output_type": "stream",
     "text": [
      "[Parallel(n_jobs=-1)]: Using backend LokyBackend with 8 concurrent workers.\n",
      "[Parallel(n_jobs=-1)]: Done  16 tasks      | elapsed:    0.3s\n",
      "[Parallel(n_jobs=-1)]: Done 100 out of 100 | elapsed:    0.7s finished\n"
     ]
    }
   ],
   "execution_count": 54
  },
  {
   "metadata": {
    "ExecuteTime": {
     "end_time": "2024-10-23T15:19:36.864505Z",
     "start_time": "2024-10-23T15:19:36.837409Z"
    }
   },
   "cell_type": "code",
   "source": [
    "causal_forest_bin = CausalForestDML(\n",
    "    model_y = Lasso(\n",
    "        alpha = lambda_reg, \n",
    "        max_iter = 10000\n",
    "    ),\n",
    "    model_t = LogisticRegression(\n",
    "        C = 1 / (X.shape[0] * lambda_reg)\n",
    "    ),\n",
    "    n_estimators = 200,\n",
    "    min_samples_leaf = 5,\n",
    "    max_depth = 50,\n",
    "    max_samples = subsample_ratio/2,\n",
    "    discrete_treatment = True,\n",
    "    random_state = 42\n",
    ")"
   ],
   "id": "2602d147448ea66e",
   "outputs": [],
   "execution_count": 55
  },
  {
   "metadata": {
    "ExecuteTime": {
     "end_time": "2024-10-23T15:20:24.063598Z",
     "start_time": "2024-10-23T15:20:23.181986Z"
    }
   },
   "cell_type": "code",
   "source": [
    "causal_forest_bin.fit(\n",
    "    Y = Y, T = T, X = X, W = W, cache_values = True\n",
    ")"
   ],
   "id": "4c0c19f954ba412",
   "outputs": [
    {
     "data": {
      "text/plain": [
       "<econml.dml.causal_forest.CausalForestDML at 0x7fd46b925420>"
      ]
     },
     "execution_count": 57,
     "metadata": {},
     "output_type": "execute_result"
    }
   ],
   "execution_count": 57
  },
  {
   "metadata": {
    "ExecuteTime": {
     "end_time": "2024-10-23T15:20:54.048129Z",
     "start_time": "2024-10-23T15:20:53.952891Z"
    }
   },
   "cell_type": "code",
   "source": [
    "treatment_effects2 = causal_forest_bin.effect(X_test)\n",
    "te_lower2, te_upper2 = causal_forest_bin.effect_interval(X_test)"
   ],
   "id": "1e9412a28f209b4b",
   "outputs": [],
   "execution_count": 58
  },
  {
   "metadata": {
    "ExecuteTime": {
     "end_time": "2024-10-23T15:21:26.183335Z",
     "start_time": "2024-10-23T15:21:26.060278Z"
    }
   },
   "cell_type": "code",
   "source": "causal_forest_bin.summary()",
   "id": "f09abeeec1b6e9ca",
   "outputs": [
    {
     "name": "stdout",
     "output_type": "stream",
     "text": [
      "Population summary of CATE predictions on Training Data\n"
     ]
    },
    {
     "data": {
      "text/plain": [
       "<class 'econml.utilities.Summary'>\n",
       "\"\"\"\n",
       "               Uncertainty of Mean Point Estimate               \n",
       "================================================================\n",
       "mean_point stderr_mean zstat  pvalue ci_mean_lower ci_mean_upper\n",
       "----------------------------------------------------------------\n",
       "     3.161       0.146 21.689    0.0         2.876         3.447\n",
       "      Distribution of Point Estimate     \n",
       "=========================================\n",
       "std_point pct_point_lower pct_point_upper\n",
       "-----------------------------------------\n",
       "    1.743           1.134           6.693\n",
       "     Total Variance of Point Estimate     \n",
       "==========================================\n",
       "stderr_point ci_point_lower ci_point_upper\n",
       "------------------------------------------\n",
       "       1.749          1.042          6.715\n",
       "        Doubly Robust ATE on Training Data Results       \n",
       "=========================================================\n",
       "    point_estimate stderr zstat  pvalue ci_lower ci_upper\n",
       "---------------------------------------------------------\n",
       "ATE          3.184  0.074 43.156    0.0     3.04    3.329\n",
       "     Doubly Robust ATT(T=0) on Training Data Results     \n",
       "=========================================================\n",
       "    point_estimate stderr zstat  pvalue ci_lower ci_upper\n",
       "---------------------------------------------------------\n",
       "ATT          3.195  0.097 32.916    0.0    3.004    3.385\n",
       "     Doubly Robust ATT(T=1) on Training Data Results     \n",
       "=========================================================\n",
       "    point_estimate stderr zstat  pvalue ci_lower ci_upper\n",
       "---------------------------------------------------------\n",
       "ATT          3.175   0.11 28.933    0.0     2.96     3.39\n",
       "---------------------------------------------------------\n",
       "\n",
       "Note: The stderr_mean is a conservative upper bound.\n",
       "\"\"\""
      ],
      "text/html": [
       "<table class=\"simpletable\">\n",
       "<caption>Uncertainty of Mean Point Estimate</caption>\n",
       "<tr>\n",
       "  <th>mean_point</th> <th>stderr_mean</th>  <th>zstat</th> <th>pvalue</th> <th>ci_mean_lower</th> <th>ci_mean_upper</th>\n",
       "</tr>\n",
       "<tr>\n",
       "     <td>3.161</td>      <td>0.146</td>    <td>21.689</td>   <td>0.0</td>      <td>2.876</td>         <td>3.447</td>    \n",
       "</tr>\n",
       "</table>\n",
       "<table class=\"simpletable\">\n",
       "<caption>Distribution of Point Estimate</caption>\n",
       "<tr>\n",
       "  <th>std_point</th> <th>pct_point_lower</th> <th>pct_point_upper</th>\n",
       "</tr>\n",
       "<tr>\n",
       "    <td>1.743</td>        <td>1.134</td>           <td>6.693</td>     \n",
       "</tr>\n",
       "</table>\n",
       "<table class=\"simpletable\">\n",
       "<caption>Total Variance of Point Estimate</caption>\n",
       "<tr>\n",
       "  <th>stderr_point</th> <th>ci_point_lower</th> <th>ci_point_upper</th>\n",
       "</tr>\n",
       "<tr>\n",
       "      <td>1.749</td>         <td>1.042</td>          <td>6.715</td>    \n",
       "</tr>\n",
       "</table>\n",
       "<table class=\"simpletable\">\n",
       "<caption>Doubly Robust ATE on Training Data Results</caption>\n",
       "<tr>\n",
       "   <td></td>   <th>point_estimate</th> <th>stderr</th>  <th>zstat</th> <th>pvalue</th> <th>ci_lower</th> <th>ci_upper</th>\n",
       "</tr>\n",
       "<tr>\n",
       "  <th>ATE</th>      <td>3.184</td>      <td>0.074</td> <td>43.156</td>   <td>0.0</td>    <td>3.04</td>     <td>3.329</td> \n",
       "</tr>\n",
       "</table>\n",
       "<table class=\"simpletable\">\n",
       "<caption>Doubly Robust ATT(T=0) on Training Data Results</caption>\n",
       "<tr>\n",
       "   <td></td>   <th>point_estimate</th> <th>stderr</th>  <th>zstat</th> <th>pvalue</th> <th>ci_lower</th> <th>ci_upper</th>\n",
       "</tr>\n",
       "<tr>\n",
       "  <th>ATT</th>      <td>3.195</td>      <td>0.097</td> <td>32.916</td>   <td>0.0</td>    <td>3.004</td>    <td>3.385</td> \n",
       "</tr>\n",
       "</table>\n",
       "<table class=\"simpletable\">\n",
       "<caption>Doubly Robust ATT(T=1) on Training Data Results</caption>\n",
       "<tr>\n",
       "   <td></td>   <th>point_estimate</th> <th>stderr</th>  <th>zstat</th> <th>pvalue</th> <th>ci_lower</th> <th>ci_upper</th>\n",
       "</tr>\n",
       "<tr>\n",
       "  <th>ATT</th>      <td>3.175</td>      <td>0.11</td>  <td>28.933</td>   <td>0.0</td>    <td>2.96</td>     <td>3.39</td>  \n",
       "</tr>\n",
       "</table><br/><br/>Note: The stderr_mean is a conservative upper bound."
      ]
     },
     "execution_count": 60,
     "metadata": {},
     "output_type": "execute_result"
    }
   ],
   "execution_count": 60
  },
  {
   "metadata": {},
   "cell_type": "markdown",
   "source": "#### 2.3 Performance Visualization",
   "id": "7c99aa007fd9e5ee"
  },
  {
   "metadata": {
    "ExecuteTime": {
     "end_time": "2024-10-23T15:24:01.262453Z",
     "start_time": "2024-10-23T15:24:00.989358Z"
    }
   },
   "cell_type": "code",
   "source": [
    "fig, (ax1, ax2) = plt.subplots(1, 2, figsize = (10, 5))\n",
    "\n",
    "ax1.set_title('Continuous Orthogonal Random Forest')\n",
    "ax1.plot(\n",
    "    X_test, treatment_effects, label = 'ORF estimates'\n",
    ")\n",
    "expected_te = np.array([exp_te(x_i) for x_i in X_test])\n",
    "ax1.plot(\n",
    "    X_test[:, 0], expected_te, ls = '--', color = 'tab:blue', label='True effect'\n",
    ")\n",
    "ax1.fill_between(\n",
    "    X_test[:, 0], \n",
    "    te_lower, te_upper,\n",
    "    label = \"95% BLB CI\", \n",
    "    alpha = 0.3\n",
    ")\n",
    "ax1.set_ylabel('Treatment effect')\n",
    "ax1.set_xlabel('x')\n",
    "for spine in ax1.spines.values():\n",
    "    spine.set_visible(False)\n",
    "ax1.grid(False)\n",
    "ax1.yaxis.grid(True, ls = ':', alpha = 0.5) \n",
    "ax1.legend()\n",
    "\n",
    "ax2.set_title('Causal Forest')\n",
    "ax2.plot(\n",
    "    X_test, treatment_effects2, label = 'Causal Forest estimates'\n",
    ")\n",
    "expected_te = np.array([exp_te(x_i) for x_i in X_test])\n",
    "ax2.plot(\n",
    "    X_test[:, 0], expected_te, ls = '--', color = 'tab:blue', label='True effect'\n",
    ")\n",
    "ax2.fill_between(\n",
    "    X_test[:, 0], \n",
    "    te_lower2, te_upper2, \n",
    "    label=\"95% BLB CI\",\n",
    "    alpha=0.3\n",
    ")\n",
    "ax2.set_ylabel('Treatment effect')\n",
    "ax2.set_xlabel('x')\n",
    "for spine in ax2.spines.values():\n",
    "    spine.set_visible(False)\n",
    "ax2.grid(False)\n",
    "ax2.yaxis.grid(True, ls = ':', alpha = 0.5) \n",
    "ax2.legend()\n",
    "\n",
    "plt.suptitle('Causal Machine learning with Binary Treatment Synthetic Data')\n",
    "plt.show()"
   ],
   "id": "4b992ea03a6a1436",
   "outputs": [
    {
     "data": {
      "text/plain": [
       "<Figure size 1000x500 with 2 Axes>"
      ],
      "image/png": "[encoded data removed]"
     },
     "metadata": {},
     "output_type": "display_data"
    }
   ],
   "execution_count": 62
  },
  {
   "metadata": {},
   "cell_type": "markdown",
   "source": [
    "### 3. Multiple Treatment Synthetic Data\n",
    "\n",
    "#### 3.1 Data Generating Process\n",
    "\n",
    "We use the following DGP:\n",
    "\n",
    "$$\\begin{align}\n",
    "Y = & \\sum_{t=1}^{n_{\\text{treatments}}} 1\\{T=t\\}\\cdot \\theta_{T}(X) + \\langle W, \\gamma\\rangle + \\epsilon, \\; \\epsilon \\sim \\text{Unif}(-1, 1), \\\\\n",
    "\\text{Pr}[T=t \\mid W] \\propto & \\exp\\{\\langle W, \\beta_t \\rangle\\}, \\;\\;\\;\\; \\forall t\\in \\{0, 1, \\ldots, n_{\\text{treatments}}\\} \n",
    "\\end{align}$$\n",
    "\n",
    "where $W$ is a matrix of high-dimensional confounders, $\\beta_t, \\gamma$ are sparse.\n",
    "\n",
    "For this particular example DGP we used $n_{\\text{treatments}}=3$ and \n",
    "$$\\begin{align}\n",
    "\\theta_1(x) = & \\exp( 2 x_1 ),\\\\\n",
    "\\theta_2(x) = &  3 \\cdot \\sigma(100\\cdot (x_1 - .5)),\\\\\n",
    "\\theta_3(x) = & -2 \\cdot \\sigma(100\\cdot (x_1 - .25)),\n",
    "\\end{align}$$\n",
    "where $\\sigma$ is the sigmoid function."
   ],
   "id": "fad1a83e77994950"
  },
  {
   "metadata": {
    "ExecuteTime": {
     "end_time": "2024-10-23T15:36:45.167852Z",
     "start_time": "2024-10-23T15:36:45.152166Z"
    }
   },
   "cell_type": "code",
   "source": [
    "def get_test_train_data(n, n_w, support_size, n_x, te_func, n_treatments):\n",
    "    \n",
    "    # Outcome support\n",
    "    support_Y = np.random.choice(range(n_w), size=support_size, replace=False)\n",
    "    coefs_Y = np.random.uniform(0, 1, size=support_size)\n",
    "    def epsilon_sample(n):\n",
    "        return np.random.uniform(-1, 1, size=n)\n",
    "    \n",
    "    # Treatment support\n",
    "    support_T = support_Y\n",
    "    coefs_T = np.random.uniform(0, 1, size=(support_size, n_treatments))\n",
    "    \n",
    "    def eta_sample(n):\n",
    "        return np.random.uniform(-1, 1, size=n)\n",
    "    \n",
    "    # Generate controls, covariates, treatments and outcomes\n",
    "    W = np.random.normal(0, 1, size=(n, n_w))\n",
    "    X = np.random.uniform(0, 1, size=(n, n_x))\n",
    "    \n",
    "    # Heterogeneous treatment effects\n",
    "    TE = np.array([te_func(x_i, n_treatments) for x_i in X])\n",
    "    log_odds = np.dot(W[:, support_T], coefs_T)\n",
    "    T_sigmoid = np.exp(log_odds)\n",
    "    T_sigmoid = T_sigmoid/np.sum(T_sigmoid, axis=1, keepdims=True)\n",
    "    T = np.array([np.random.choice(n_treatments, p=p) for p in T_sigmoid])\n",
    "    TE = np.concatenate((np.zeros((n,1)), TE), axis=1)\n",
    "    Y = TE[np.arange(n), T] + np.dot(W[:, support_Y], coefs_Y) + epsilon_sample(n)\n",
    "    X_test = np.array(list(product(np.arange(0, 1, 0.01), repeat=n_x)))\n",
    "\n",
    "    return (Y, T, X, W), (X_test, np.array([te_func(x, n_treatments) for x in X_test]))"
   ],
   "id": "adcf3b5ed36479fc",
   "outputs": [],
   "execution_count": 72
  },
  {
   "metadata": {
    "ExecuteTime": {
     "end_time": "2024-10-23T15:36:45.915491Z",
     "start_time": "2024-10-23T15:36:45.862463Z"
    }
   },
   "cell_type": "code",
   "source": [
    "import scipy.special\n",
    "def te_func(x, n_treatments):\n",
    "    return [np.exp(2*x[0]), 3*scipy.special.expit(100*(x[0] - .5)) - 1, -2*scipy.special.expit(100*(x[0] - .25))]\n",
    "\n",
    "np.random.seed(42)\n",
    "(Y, T, X, W), (X_test, te_test) = get_test_train_data(2000, 3, 3, 1, te_func, 4)"
   ],
   "id": "4640a1fc47956f13",
   "outputs": [],
   "execution_count": 73
  },
  {
   "metadata": {},
   "cell_type": "markdown",
   "source": "#### 3.2 Train Estimator",
   "id": "c479afccb2829494"
  },
  {
   "metadata": {
    "ExecuteTime": {
     "end_time": "2024-10-23T15:53:02.175408Z",
     "start_time": "2024-10-23T15:53:02.166124Z"
    }
   },
   "cell_type": "code",
   "source": [
    "import warnings\n",
    "from sklearn.exceptions import ConvergenceWarning\n",
    "\n",
    "warnings.filterwarnings('ignore', category=ConvergenceWarning)\n",
    "\n",
    "ortho_forest_multi = DROrthoForest(\n",
    "    n_trees = 500,\n",
    "    model_Y = WeightedLasso(\n",
    "        alpha = lambda_reg,\n",
    "        max_iter = 1000\n",
    "    ),\n",
    "    min_leaf_size = 30,\n",
    "    max_depth = 30\n",
    ")"
   ],
   "id": "226cc6a4710a33b",
   "outputs": [],
   "execution_count": 111
  },
  {
   "metadata": {
    "ExecuteTime": {
     "end_time": "2024-10-23T15:53:05.669917Z",
     "start_time": "2024-10-23T15:53:02.411988Z"
    }
   },
   "cell_type": "code",
   "source": [
    "ortho_forest_multi.fit(\n",
    "    Y = Y, T = T, X = X, W = W\n",
    ")"
   ],
   "id": "3b68689b91070674",
   "outputs": [
    {
     "name": "stderr",
     "output_type": "stream",
     "text": [
      "[Parallel(n_jobs=-1)]: Using backend LokyBackend with 8 concurrent workers.\n",
      "The max_iter was reached which means the coef_ did not converge\n",
      "The max_iter was reached which means the coef_ did not converge\n",
      "The max_iter was reached which means the coef_ did not converge\n",
      "The max_iter was reached which means the coef_ did not converge\n",
      "The max_iter was reached which means the coef_ did not converge\n",
      "The max_iter was reached which means the coef_ did not converge\n",
      "The max_iter was reached which means the coef_ did not converge\n",
      "[Parallel(n_jobs=-1)]: Done  16 tasks      | elapsed:    0.2s\n",
      "The max_iter was reached which means the coef_ did not converge\n",
      "The max_iter was reached which means the coef_ did not converge\n",
      "The max_iter was reached which means the coef_ did not converge\n",
      "The max_iter was reached which means the coef_ did not converge\n",
      "The max_iter was reached which means the coef_ did not converge\n",
      "The max_iter was reached which means the coef_ did not converge\n",
      "The max_iter was reached which means the coef_ did not converge\n",
      "The max_iter was reached which means the coef_ did not converge\n",
      "The max_iter was reached which means the coef_ did not converge\n",
      "The max_iter was reached which means the coef_ did not converge\n",
      "The max_iter was reached which means the coef_ did not converge\n",
      "The max_iter was reached which means the coef_ did not converge\n",
      "The max_iter was reached which means the coef_ did not converge\n",
      "The max_iter was reached which means the coef_ did not converge\n",
      "The max_iter was reached which means the coef_ did not converge\n",
      "The max_iter was reached which means the coef_ did not converge\n",
      "The max_iter was reached which means the coef_ did not converge\n",
      "The max_iter was reached which means the coef_ did not converge\n",
      "The max_iter was reached which means the coef_ did not converge\n",
      "The max_iter was reached which means the coef_ did not converge\n",
      "The max_iter was reached which means the coef_ did not converge\n",
      "The max_iter was reached which means the coef_ did not converge\n",
      "The max_iter was reached which means the coef_ did not converge\n",
      "The max_iter was reached which means the coef_ did not converge\n",
      "The max_iter was reached which means the coef_ did not converge\n",
      "The max_iter was reached which means the coef_ did not converge\n",
      "The max_iter was reached which means the coef_ did not converge\n",
      "The max_iter was reached which means the coef_ did not converge\n",
      "The max_iter was reached which means the coef_ did not converge\n",
      "The max_iter was reached which means the coef_ did not converge\n",
      "The max_iter was reached which means the coef_ did not converge\n",
      "The max_iter was reached which means the coef_ did not converge\n",
      "The max_iter was reached which means the coef_ did not converge\n",
      "The max_iter was reached which means the coef_ did not converge\n",
      "The max_iter was reached which means the coef_ did not converge\n",
      "The max_iter was reached which means the coef_ did not converge\n",
      "The max_iter was reached which means the coef_ did not converge\n",
      "The max_iter was reached which means the coef_ did not converge\n",
      "The max_iter was reached which means the coef_ did not converge\n",
      "The max_iter was reached which means the coef_ did not converge\n",
      "The max_iter was reached which means the coef_ did not converge\n",
      "The max_iter was reached which means the coef_ did not converge\n",
      "The max_iter was reached which means the coef_ did not converge\n",
      "The max_iter was reached which means the coef_ did not converge\n",
      "The max_iter was reached which means the coef_ did not converge\n",
      "The max_iter was reached which means the coef_ did not converge\n",
      "The max_iter was reached which means the coef_ did not converge\n",
      "The max_iter was reached which means the coef_ did not converge\n",
      "The max_iter was reached which means the coef_ did not converge\n",
      "The max_iter was reached which means the coef_ did not converge\n",
      "The max_iter was reached which means the coef_ did not converge\n",
      "The max_iter was reached which means the coef_ did not converge\n",
      "The max_iter was reached which means the coef_ did not converge\n",
      "The max_iter was reached which means the coef_ did not converge\n",
      "The max_iter was reached which means the coef_ did not converge\n",
      "The max_iter was reached which means the coef_ did not converge\n",
      "The max_iter was reached which means the coef_ did not converge\n",
      "The max_iter was reached which means the coef_ did not converge\n",
      "The max_iter was reached which means the coef_ did not converge\n",
      "The max_iter was reached which means the coef_ did not converge\n",
      "The max_iter was reached which means the coef_ did not converge\n",
      "The max_iter was reached which means the coef_ did not converge\n",
      "The max_iter was reached which means the coef_ did not converge\n",
      "The max_iter was reached which means the coef_ did not converge\n",
      "The max_iter was reached which means the coef_ did not converge\n",
      "The max_iter was reached which means the coef_ did not converge\n",
      "The max_iter was reached which means the coef_ did not converge\n",
      "The max_iter was reached which means the coef_ did not converge\n",
      "The max_iter was reached which means the coef_ did not converge\n",
      "The max_iter was reached which means the coef_ did not converge\n",
      "The max_iter was reached which means the coef_ did not converge\n",
      "The max_iter was reached which means the coef_ did not converge\n",
      "The max_iter was reached which means the coef_ did not converge\n",
      "The max_iter was reached which means the coef_ did not converge\n",
      "The max_iter was reached which means the coef_ did not converge\n",
      "The max_iter was reached which means the coef_ did not converge\n",
      "The max_iter was reached which means the coef_ did not converge\n",
      "The max_iter was reached which means the coef_ did not converge\n",
      "The max_iter was reached which means the coef_ did not converge\n",
      "The max_iter was reached which means the coef_ did not converge\n",
      "The max_iter was reached which means the coef_ did not converge\n",
      "The max_iter was reached which means the coef_ did not converge\n",
      "The max_iter was reached which means the coef_ did not converge\n",
      "The max_iter was reached which means the coef_ did not converge\n",
      "The max_iter was reached which means the coef_ did not converge\n",
      "The max_iter was reached which means the coef_ did not converge\n",
      "The max_iter was reached which means the coef_ did not converge\n",
      "The max_iter was reached which means the coef_ did not converge\n",
      "The max_iter was reached which means the coef_ did not converge\n",
      "The max_iter was reached which means the coef_ did not converge\n",
      "The max_iter was reached which means the coef_ did not converge\n",
      "The max_iter was reached which means the coef_ did not converge\n",
      "The max_iter was reached which means the coef_ did not converge\n",
      "The max_iter was reached which means the coef_ did not converge\n",
      "The max_iter was reached which means the coef_ did not converge\n",
      "The max_iter was reached which means the coef_ did not converge\n",
      "The max_iter was reached which means the coef_ did not converge\n",
      "The max_iter was reached which means the coef_ did not converge\n",
      "The max_iter was reached which means the coef_ did not converge\n",
      "The max_iter was reached which means the coef_ did not converge\n",
      "The max_iter was reached which means the coef_ did not converge\n",
      "The max_iter was reached which means the coef_ did not converge\n",
      "The max_iter was reached which means the coef_ did not converge\n",
      "The max_iter was reached which means the coef_ did not converge\n",
      "The max_iter was reached which means the coef_ did not converge\n",
      "The max_iter was reached which means the coef_ did not converge\n",
      "The max_iter was reached which means the coef_ did not converge\n",
      "The max_iter was reached which means the coef_ did not converge\n",
      "The max_iter was reached which means the coef_ did not converge\n",
      "The max_iter was reached which means the coef_ did not converge\n",
      "The max_iter was reached which means the coef_ did not converge\n",
      "The max_iter was reached which means the coef_ did not converge\n",
      "The max_iter was reached which means the coef_ did not converge\n",
      "The max_iter was reached which means the coef_ did not converge\n",
      "The max_iter was reached which means the coef_ did not converge\n",
      "The max_iter was reached which means the coef_ did not converge\n",
      "The max_iter was reached which means the coef_ did not converge\n",
      "The max_iter was reached which means the coef_ did not converge\n",
      "The max_iter was reached which means the coef_ did not converge\n",
      "The max_iter was reached which means the coef_ did not converge\n",
      "The max_iter was reached which means the coef_ did not converge\n",
      "The max_iter was reached which means the coef_ did not converge\n",
      "The max_iter was reached which means the coef_ did not converge\n",
      "The max_iter was reached which means the coef_ did not converge\n",
      "The max_iter was reached which means the coef_ did not converge\n",
      "The max_iter was reached which means the coef_ did not converge\n",
      "The max_iter was reached which means the coef_ did not converge\n",
      "[Parallel(n_jobs=-1)]: Done 500 out of 500 | elapsed:    1.6s finished\n",
      "[Parallel(n_jobs=-1)]: Using backend LokyBackend with 8 concurrent workers.\n",
      "The max_iter was reached which means the coef_ did not converge\n",
      "The max_iter was reached which means the coef_ did not converge\n",
      "The max_iter was reached which means the coef_ did not converge\n",
      "The max_iter was reached which means the coef_ did not converge\n",
      "[Parallel(n_jobs=-1)]: Done  16 tasks      | elapsed:    0.1s\n",
      "The max_iter was reached which means the coef_ did not converge\n",
      "The max_iter was reached which means the coef_ did not converge\n",
      "The max_iter was reached which means the coef_ did not converge\n",
      "The max_iter was reached which means the coef_ did not converge\n",
      "The max_iter was reached which means the coef_ did not converge\n",
      "The max_iter was reached which means the coef_ did not converge\n",
      "The max_iter was reached which means the coef_ did not converge\n",
      "The max_iter was reached which means the coef_ did not converge\n",
      "The max_iter was reached which means the coef_ did not converge\n",
      "The max_iter was reached which means the coef_ did not converge\n",
      "The max_iter was reached which means the coef_ did not converge\n",
      "The max_iter was reached which means the coef_ did not converge\n",
      "The max_iter was reached which means the coef_ did not converge\n",
      "The max_iter was reached which means the coef_ did not converge\n",
      "The max_iter was reached which means the coef_ did not converge\n",
      "The max_iter was reached which means the coef_ did not converge\n",
      "The max_iter was reached which means the coef_ did not converge\n",
      "The max_iter was reached which means the coef_ did not converge\n",
      "The max_iter was reached which means the coef_ did not converge\n",
      "The max_iter was reached which means the coef_ did not converge\n",
      "The max_iter was reached which means the coef_ did not converge\n",
      "The max_iter was reached which means the coef_ did not converge\n",
      "The max_iter was reached which means the coef_ did not converge\n",
      "The max_iter was reached which means the coef_ did not converge\n",
      "The max_iter was reached which means the coef_ did not converge\n",
      "The max_iter was reached which means the coef_ did not converge\n",
      "The max_iter was reached which means the coef_ did not converge\n",
      "The max_iter was reached which means the coef_ did not converge\n",
      "The max_iter was reached which means the coef_ did not converge\n",
      "The max_iter was reached which means the coef_ did not converge\n",
      "The max_iter was reached which means the coef_ did not converge\n",
      "The max_iter was reached which means the coef_ did not converge\n",
      "The max_iter was reached which means the coef_ did not converge\n",
      "The max_iter was reached which means the coef_ did not converge\n",
      "The max_iter was reached which means the coef_ did not converge\n",
      "The max_iter was reached which means the coef_ did not converge\n",
      "The max_iter was reached which means the coef_ did not converge\n",
      "The max_iter was reached which means the coef_ did not converge\n",
      "The max_iter was reached which means the coef_ did not converge\n",
      "The max_iter was reached which means the coef_ did not converge\n",
      "The max_iter was reached which means the coef_ did not converge\n",
      "The max_iter was reached which means the coef_ did not converge\n",
      "The max_iter was reached which means the coef_ did not converge\n",
      "The max_iter was reached which means the coef_ did not converge\n",
      "The max_iter was reached which means the coef_ did not converge\n",
      "The max_iter was reached which means the coef_ did not converge\n",
      "The max_iter was reached which means the coef_ did not converge\n",
      "The max_iter was reached which means the coef_ did not converge\n",
      "The max_iter was reached which means the coef_ did not converge\n",
      "The max_iter was reached which means the coef_ did not converge\n",
      "The max_iter was reached which means the coef_ did not converge\n",
      "The max_iter was reached which means the coef_ did not converge\n",
      "The max_iter was reached which means the coef_ did not converge\n",
      "The max_iter was reached which means the coef_ did not converge\n",
      "The max_iter was reached which means the coef_ did not converge\n",
      "The max_iter was reached which means the coef_ did not converge\n",
      "The max_iter was reached which means the coef_ did not converge\n",
      "The max_iter was reached which means the coef_ did not converge\n",
      "The max_iter was reached which means the coef_ did not converge\n",
      "The max_iter was reached which means the coef_ did not converge\n",
      "The max_iter was reached which means the coef_ did not converge\n",
      "The max_iter was reached which means the coef_ did not converge\n",
      "The max_iter was reached which means the coef_ did not converge\n",
      "The max_iter was reached which means the coef_ did not converge\n",
      "The max_iter was reached which means the coef_ did not converge\n",
      "The max_iter was reached which means the coef_ did not converge\n",
      "The max_iter was reached which means the coef_ did not converge\n",
      "The max_iter was reached which means the coef_ did not converge\n",
      "The max_iter was reached which means the coef_ did not converge\n",
      "The max_iter was reached which means the coef_ did not converge\n",
      "The max_iter was reached which means the coef_ did not converge\n",
      "The max_iter was reached which means the coef_ did not converge\n",
      "The max_iter was reached which means the coef_ did not converge\n",
      "The max_iter was reached which means the coef_ did not converge\n",
      "The max_iter was reached which means the coef_ did not converge\n",
      "The max_iter was reached which means the coef_ did not converge\n",
      "The max_iter was reached which means the coef_ did not converge\n",
      "The max_iter was reached which means the coef_ did not converge\n",
      "The max_iter was reached which means the coef_ did not converge\n",
      "The max_iter was reached which means the coef_ did not converge\n",
      "The max_iter was reached which means the coef_ did not converge\n",
      "The max_iter was reached which means the coef_ did not converge\n",
      "The max_iter was reached which means the coef_ did not converge\n",
      "The max_iter was reached which means the coef_ did not converge\n",
      "The max_iter was reached which means the coef_ did not converge\n",
      "The max_iter was reached which means the coef_ did not converge\n",
      "The max_iter was reached which means the coef_ did not converge\n",
      "The max_iter was reached which means the coef_ did not converge\n",
      "The max_iter was reached which means the coef_ did not converge\n",
      "The max_iter was reached which means the coef_ did not converge\n",
      "The max_iter was reached which means the coef_ did not converge\n",
      "The max_iter was reached which means the coef_ did not converge\n",
      "The max_iter was reached which means the coef_ did not converge\n",
      "The max_iter was reached which means the coef_ did not converge\n",
      "The max_iter was reached which means the coef_ did not converge\n",
      "The max_iter was reached which means the coef_ did not converge\n",
      "The max_iter was reached which means the coef_ did not converge\n",
      "The max_iter was reached which means the coef_ did not converge\n",
      "The max_iter was reached which means the coef_ did not converge\n",
      "The max_iter was reached which means the coef_ did not converge\n",
      "The max_iter was reached which means the coef_ did not converge\n",
      "The max_iter was reached which means the coef_ did not converge\n",
      "The max_iter was reached which means the coef_ did not converge\n",
      "The max_iter was reached which means the coef_ did not converge\n",
      "The max_iter was reached which means the coef_ did not converge\n",
      "The max_iter was reached which means the coef_ did not converge\n",
      "The max_iter was reached which means the coef_ did not converge\n",
      "The max_iter was reached which means the coef_ did not converge\n",
      "The max_iter was reached which means the coef_ did not converge\n",
      "The max_iter was reached which means the coef_ did not converge\n",
      "The max_iter was reached which means the coef_ did not converge\n",
      "The max_iter was reached which means the coef_ did not converge\n",
      "The max_iter was reached which means the coef_ did not converge\n",
      "The max_iter was reached which means the coef_ did not converge\n",
      "The max_iter was reached which means the coef_ did not converge\n",
      "The max_iter was reached which means the coef_ did not converge\n",
      "The max_iter was reached which means the coef_ did not converge\n",
      "The max_iter was reached which means the coef_ did not converge\n",
      "The max_iter was reached which means the coef_ did not converge\n",
      "The max_iter was reached which means the coef_ did not converge\n",
      "The max_iter was reached which means the coef_ did not converge\n",
      "The max_iter was reached which means the coef_ did not converge\n",
      "The max_iter was reached which means the coef_ did not converge\n",
      "The max_iter was reached which means the coef_ did not converge\n",
      "The max_iter was reached which means the coef_ did not converge\n",
      "The max_iter was reached which means the coef_ did not converge\n",
      "The max_iter was reached which means the coef_ did not converge\n",
      "The max_iter was reached which means the coef_ did not converge\n",
      "The max_iter was reached which means the coef_ did not converge\n",
      "The max_iter was reached which means the coef_ did not converge\n",
      "The max_iter was reached which means the coef_ did not converge\n",
      "The max_iter was reached which means the coef_ did not converge\n",
      "The max_iter was reached which means the coef_ did not converge\n",
      "The max_iter was reached which means the coef_ did not converge\n",
      "The max_iter was reached which means the coef_ did not converge\n",
      "The max_iter was reached which means the coef_ did not converge\n",
      "The max_iter was reached which means the coef_ did not converge\n",
      "The max_iter was reached which means the coef_ did not converge\n",
      "The max_iter was reached which means the coef_ did not converge\n",
      "The max_iter was reached which means the coef_ did not converge\n",
      "The max_iter was reached which means the coef_ did not converge\n",
      "The max_iter was reached which means the coef_ did not converge\n",
      "The max_iter was reached which means the coef_ did not converge\n",
      "The max_iter was reached which means the coef_ did not converge\n",
      "The max_iter was reached which means the coef_ did not converge\n",
      "The max_iter was reached which means the coef_ did not converge\n",
      "The max_iter was reached which means the coef_ did not converge\n",
      "The max_iter was reached which means the coef_ did not converge\n",
      "The max_iter was reached which means the coef_ did not converge\n",
      "The max_iter was reached which means the coef_ did not converge\n",
      "The max_iter was reached which means the coef_ did not converge\n",
      "The max_iter was reached which means the coef_ did not converge\n",
      "The max_iter was reached which means the coef_ did not converge\n",
      "The max_iter was reached which means the coef_ did not converge\n",
      "The max_iter was reached which means the coef_ did not converge\n",
      "The max_iter was reached which means the coef_ did not converge\n",
      "The max_iter was reached which means the coef_ did not converge\n",
      "The max_iter was reached which means the coef_ did not converge\n",
      "The max_iter was reached which means the coef_ did not converge\n",
      "[Parallel(n_jobs=-1)]: Done 500 out of 500 | elapsed:    1.4s finished\n"
     ]
    },
    {
     "data": {
      "text/plain": [
       "<econml.orf._ortho_forest.DROrthoForest at 0x7fd44ceb12d0>"
      ]
     },
     "execution_count": 112,
     "metadata": {},
     "output_type": "execute_result"
    }
   ],
   "execution_count": 112
  },
  {
   "metadata": {
    "ExecuteTime": {
     "end_time": "2024-10-23T15:53:29.472549Z",
     "start_time": "2024-10-23T15:53:06.552880Z"
    }
   },
   "cell_type": "code",
   "source": [
    "# Calculate marginal treatment effects\n",
    "treatment_effects = ortho_forest_multi.const_marginal_effect(X_test)"
   ],
   "id": "b4d2bebe3603d947",
   "outputs": [
    {
     "name": "stderr",
     "output_type": "stream",
     "text": [
      "[Parallel(n_jobs=-1)]: Using backend LokyBackend with 8 concurrent workers.\n",
      "[Parallel(n_jobs=-1)]: Done  16 tasks      | elapsed:   22.2s\n",
      "[Parallel(n_jobs=-1)]: Done 100 out of 100 | elapsed:   22.9s finished\n"
     ]
    }
   ],
   "execution_count": 113
  },
  {
   "metadata": {
    "ExecuteTime": {
     "end_time": "2024-10-23T15:53:32.483298Z",
     "start_time": "2024-10-23T15:53:29.478703Z"
    }
   },
   "cell_type": "code",
   "source": [
    "# Calculate default (95%) marginal confidence intervals for the test data\n",
    "te_lower, te_upper = ortho_forest_multi.const_marginal_effect_interval(X_test)"
   ],
   "id": "eccb3ee4b7ac0abf",
   "outputs": [
    {
     "name": "stderr",
     "output_type": "stream",
     "text": [
      "[Parallel(n_jobs=-1)]: Using backend LokyBackend with 8 concurrent workers.\n",
      "[Parallel(n_jobs=-1)]: Done  18 tasks      | elapsed:    0.8s\n",
      "[Parallel(n_jobs=-1)]: Done 100 out of 100 | elapsed:    2.9s finished\n"
     ]
    }
   ],
   "execution_count": 114
  },
  {
   "metadata": {
    "ExecuteTime": {
     "end_time": "2024-10-23T15:53:33.951945Z",
     "start_time": "2024-10-23T15:53:32.485180Z"
    }
   },
   "cell_type": "code",
   "source": "res = ortho_forest_multi.const_marginal_effect_inference(X_test)",
   "id": "1678babe7fe41f50",
   "outputs": [
    {
     "name": "stderr",
     "output_type": "stream",
     "text": [
      "[Parallel(n_jobs=-1)]: Using backend LokyBackend with 8 concurrent workers.\n",
      "[Parallel(n_jobs=-1)]: Done  16 tasks      | elapsed:    0.8s\n",
      "[Parallel(n_jobs=-1)]: Done 100 out of 100 | elapsed:    1.4s finished\n"
     ]
    }
   ],
   "execution_count": 115
  },
  {
   "metadata": {
    "ExecuteTime": {
     "end_time": "2024-10-23T15:53:34.022504Z",
     "start_time": "2024-10-23T15:53:33.955397Z"
    }
   },
   "cell_type": "code",
   "source": "res.summary_frame()",
   "id": "4704ce11a76a73b2",
   "outputs": [
    {
     "data": {
      "text/plain": [
       "         point_estimate  stderr   zstat  pvalue  ci_lower  ci_upper\n",
       "X  T                                                               \n",
       "0  T0_1           1.103   0.242   4.556   0.000     0.629     1.578\n",
       "   T0_2          -0.870   0.138  -6.315   0.000    -1.140    -0.600\n",
       "   T0_3           0.221   0.328   0.673   0.501    -0.422     0.863\n",
       "1  T0_1           1.120   0.227   4.944   0.000     0.676     1.564\n",
       "   T0_2          -0.875   0.137  -6.390   0.000    -1.143    -0.607\n",
       "...                 ...     ...     ...     ...       ...       ...\n",
       "98 T0_2           1.958   0.137  14.307   0.000     1.690     2.226\n",
       "   T0_3          -2.043   0.158 -12.927   0.000    -2.352    -1.733\n",
       "99 T0_1           6.291   0.746   8.437   0.000     4.829     7.752\n",
       "   T0_2           1.954   0.137  14.247   0.000     1.685     2.223\n",
       "   T0_3          -2.046   0.159 -12.891   0.000    -2.357    -1.735\n",
       "\n",
       "[300 rows x 6 columns]"
      ],
      "text/html": [
       "<div>\n",
       "<style scoped>\n",
       "    .dataframe tbody tr th:only-of-type {\n",
       "        vertical-align: middle;\n",
       "    }\n",
       "\n",
       "    .dataframe tbody tr th {\n",
       "        vertical-align: top;\n",
       "    }\n",
       "\n",
       "    .dataframe thead th {\n",
       "        text-align: right;\n",
       "    }\n",
       "</style>\n",
       "<table border=\"1\" class=\"dataframe\">\n",
       "  <thead>\n",
       "    <tr style=\"text-align: right;\">\n",
       "      <th></th>\n",
       "      <th></th>\n",
       "      <th>point_estimate</th>\n",
       "      <th>stderr</th>\n",
       "      <th>zstat</th>\n",
       "      <th>pvalue</th>\n",
       "      <th>ci_lower</th>\n",
       "      <th>ci_upper</th>\n",
       "    </tr>\n",
       "    <tr>\n",
       "      <th>X</th>\n",
       "      <th>T</th>\n",
       "      <th></th>\n",
       "      <th></th>\n",
       "      <th></th>\n",
       "      <th></th>\n",
       "      <th></th>\n",
       "      <th></th>\n",
       "    </tr>\n",
       "  </thead>\n",
       "  <tbody>\n",
       "    <tr>\n",
       "      <th rowspan=\"3\" valign=\"top\">0</th>\n",
       "      <th>T0_1</th>\n",
       "      <td>1.103</td>\n",
       "      <td>0.242</td>\n",
       "      <td>4.556</td>\n",
       "      <td>0.000</td>\n",
       "      <td>0.629</td>\n",
       "      <td>1.578</td>\n",
       "    </tr>\n",
       "    <tr>\n",
       "      <th>T0_2</th>\n",
       "      <td>-0.870</td>\n",
       "      <td>0.138</td>\n",
       "      <td>-6.315</td>\n",
       "      <td>0.000</td>\n",
       "      <td>-1.140</td>\n",
       "      <td>-0.600</td>\n",
       "    </tr>\n",
       "    <tr>\n",
       "      <th>T0_3</th>\n",
       "      <td>0.221</td>\n",
       "      <td>0.328</td>\n",
       "      <td>0.673</td>\n",
       "      <td>0.501</td>\n",
       "      <td>-0.422</td>\n",
       "      <td>0.863</td>\n",
       "    </tr>\n",
       "    <tr>\n",
       "      <th rowspan=\"2\" valign=\"top\">1</th>\n",
       "      <th>T0_1</th>\n",
       "      <td>1.120</td>\n",
       "      <td>0.227</td>\n",
       "      <td>4.944</td>\n",
       "      <td>0.000</td>\n",
       "      <td>0.676</td>\n",
       "      <td>1.564</td>\n",
       "    </tr>\n",
       "    <tr>\n",
       "      <th>T0_2</th>\n",
       "      <td>-0.875</td>\n",
       "      <td>0.137</td>\n",
       "      <td>-6.390</td>\n",
       "      <td>0.000</td>\n",
       "      <td>-1.143</td>\n",
       "      <td>-0.607</td>\n",
       "    </tr>\n",
       "    <tr>\n",
       "      <th>...</th>\n",
       "      <th>...</th>\n",
       "      <td>...</td>\n",
       "      <td>...</td>\n",
       "      <td>...</td>\n",
       "      <td>...</td>\n",
       "      <td>...</td>\n",
       "      <td>...</td>\n",
       "    </tr>\n",
       "    <tr>\n",
       "      <th rowspan=\"2\" valign=\"top\">98</th>\n",
       "      <th>T0_2</th>\n",
       "      <td>1.958</td>\n",
       "      <td>0.137</td>\n",
       "      <td>14.307</td>\n",
       "      <td>0.000</td>\n",
       "      <td>1.690</td>\n",
       "      <td>2.226</td>\n",
       "    </tr>\n",
       "    <tr>\n",
       "      <th>T0_3</th>\n",
       "      <td>-2.043</td>\n",
       "      <td>0.158</td>\n",
       "      <td>-12.927</td>\n",
       "      <td>0.000</td>\n",
       "      <td>-2.352</td>\n",
       "      <td>-1.733</td>\n",
       "    </tr>\n",
       "    <tr>\n",
       "      <th rowspan=\"3\" valign=\"top\">99</th>\n",
       "      <th>T0_1</th>\n",
       "      <td>6.291</td>\n",
       "      <td>0.746</td>\n",
       "      <td>8.437</td>\n",
       "      <td>0.000</td>\n",
       "      <td>4.829</td>\n",
       "      <td>7.752</td>\n",
       "    </tr>\n",
       "    <tr>\n",
       "      <th>T0_2</th>\n",
       "      <td>1.954</td>\n",
       "      <td>0.137</td>\n",
       "      <td>14.247</td>\n",
       "      <td>0.000</td>\n",
       "      <td>1.685</td>\n",
       "      <td>2.223</td>\n",
       "    </tr>\n",
       "    <tr>\n",
       "      <th>T0_3</th>\n",
       "      <td>-2.046</td>\n",
       "      <td>0.159</td>\n",
       "      <td>-12.891</td>\n",
       "      <td>0.000</td>\n",
       "      <td>-2.357</td>\n",
       "      <td>-1.735</td>\n",
       "    </tr>\n",
       "  </tbody>\n",
       "</table>\n",
       "<p>300 rows × 6 columns</p>\n",
       "</div>"
      ]
     },
     "execution_count": 116,
     "metadata": {},
     "output_type": "execute_result"
    }
   ],
   "execution_count": 116
  },
  {
   "metadata": {
    "ExecuteTime": {
     "end_time": "2024-10-23T15:56:18.043814Z",
     "start_time": "2024-10-23T15:56:09.948873Z"
    }
   },
   "cell_type": "code",
   "source": [
    "causal_forest_multi = CausalForestDML(\n",
    "    model_y = Lasso(alpha = lambda_reg, max_iter = 1000),\n",
    "    model_t = LogisticRegression(C = 1/(X.shape[0] * lambda_reg)),\n",
    "    n_estimators = 4000,\n",
    "    min_samples_leaf = 5,\n",
    "    max_depth = 50,\n",
    "    max_samples = subsample_ratio/2,\n",
    "    discrete_treatment = True,\n",
    "    random_state = 42\n",
    ")\n",
    "causal_forest_multi.fit(Y = Y, T = T, X = X, W = W)"
   ],
   "id": "840b8638d4f70e6f",
   "outputs": [
    {
     "data": {
      "text/plain": [
       "<econml.dml.causal_forest.CausalForestDML at 0x7fd44ceb3970>"
      ]
     },
     "execution_count": 117,
     "metadata": {},
     "output_type": "execute_result"
    }
   ],
   "execution_count": 117
  },
  {
   "metadata": {
    "ExecuteTime": {
     "end_time": "2024-10-23T15:57:05.039335Z",
     "start_time": "2024-10-23T15:57:03.428059Z"
    }
   },
   "cell_type": "code",
   "source": [
    "treatment_effects2 = causal_forest_multi.const_marginal_effect(X_test)\n",
    "te_lower2, te_upper2 = causal_forest_multi.const_marginal_effect_interval(X_test, alpha=0.01)"
   ],
   "id": "891bf88a5b36d43f",
   "outputs": [],
   "execution_count": 118
  },
  {
   "metadata": {},
   "cell_type": "markdown",
   "source": "#### 3.3 Performance Visualization",
   "id": "d817cd3c5b803b95"
  },
  {
   "metadata": {
    "ExecuteTime": {
     "end_time": "2024-10-23T16:00:07.344103Z",
     "start_time": "2024-10-23T16:00:07.035102Z"
    }
   },
   "cell_type": "code",
   "source": [
    "fig, (ax1, ax2) = plt.subplots(1, 2, figsize = (10, 5))\n",
    "\n",
    "ax1.set_title('Continuous Orthogonal Random Forest')\n",
    "y = treatment_effects\n",
    "colors = ['tab:blue', 'tab:orange', 'tab:green']\n",
    "for it in range(y.shape[1]):\n",
    "    ax1.plot(X_test[:, 0], te_test[:, it], '--', label='True effect T={}'.format(it), color=colors[it])\n",
    "    ax1.fill_between(X_test[:, 0], te_lower[:, it], te_upper[:, it], alpha=0.3, color='C{}'.format(it))\n",
    "    ax1.plot(X_test, y[:, it], label='ORF estimate T={}'.format(it), color='C{}'.format(it))\n",
    "ax1.set_ylabel('Treatment effect')\n",
    "ax1.set_xlabel('x')\n",
    "for spine in ax1.spines.values():\n",
    "    spine.set_visible(False)\n",
    "ax1.grid(False)\n",
    "ax1.yaxis.grid(True, ls = ':', alpha = 0.5) \n",
    "ax1.legend()\n",
    "\n",
    "ax2.set_title('Causal Forest')\n",
    "y = treatment_effects2\n",
    "for it in range(y.shape[1]):\n",
    "    ax2.plot(X_test[:, 0], te_test[:, it], '--', label='True effect T={}'.format(it), color=colors[it])\n",
    "    ax2.fill_between(X_test[:, 0], te_lower2[:, it], te_upper2[:, it], alpha=0.3, color='C{}'.format(it))\n",
    "    ax2.plot(X_test, y[:, it], label='ORF estimate T={}'.format(it), color='C{}'.format(it))\n",
    "ax2.set_ylabel('Treatment effect')\n",
    "ax2.set_xlabel('x')\n",
    "for spine in ax2.spines.values():\n",
    "    spine.set_visible(False)\n",
    "ax2.grid(False)\n",
    "ax2.yaxis.grid(True, ls = ':', alpha = 0.5) \n",
    "ax2.legend()\n",
    "\n",
    "plt.suptitle('Causal Machine learning with Multiple Treatment Synthetic Data')\n",
    "plt.show()"
   ],
   "id": "6eb276ee2a4184ef",
   "outputs": [
    {
     "data": {
      "text/plain": [
       "<Figure size 1000x500 with 2 Axes>"
      ],
      "image/png": "[encoded data removed]"
     },
     "metadata": {},
     "output_type": "display_data"
    }
   ],
   "execution_count": 122
  },
  {
   "metadata": {},
   "cell_type": "markdown",
   "source": [
    "### 4. Example Usage with Real Continuous Treatment Observational Data\n",
    "\n",
    "We applied our technique to Dominick’s dataset, a popular historical dataset of store-level orange juice prices and sales provided by University of Chicago Booth School of Business. \n",
    "\n",
    "The dataset is comprised of a large number of covariates $W$, but researchers might only be interested in learning the elasticity of demand as a function of a few variables $x$ such\n",
    "as income or education. \n",
    "\n",
    "We applied the `DMLOrthoForest` to estimate orange juice price elasticity\n",
    "as a function of income, and our results, unveil the natural phenomenon that lower income consumers are more price-sensitive."
   ],
   "id": "2bad9bf1e3c6c8da"
  },
  {
   "metadata": {},
   "cell_type": "markdown",
   "source": "#### 4.1. Data",
   "id": "7e8da9c7ce151171"
  },
  {
   "metadata": {
    "ExecuteTime": {
     "end_time": "2024-10-23T16:01:31.295096Z",
     "start_time": "2024-10-23T16:01:31.278519Z"
    }
   },
   "cell_type": "code",
   "source": [
    "# A few more imports\n",
    "import os\n",
    "import pandas as pd\n",
    "import urllib.request\n",
    "from sklearn.preprocessing import StandardScaler"
   ],
   "id": "e09e4d3b6a60f1f8",
   "outputs": [],
   "execution_count": 123
  },
  {
   "metadata": {
    "ExecuteTime": {
     "end_time": "2024-10-23T16:01:46.944862Z",
     "start_time": "2024-10-23T16:01:42.129559Z"
    }
   },
   "cell_type": "code",
   "source": [
    "# Import the data\n",
    "file_name = \"oj_large.csv\"\n",
    "\n",
    "if not os.path.isfile(file_name):\n",
    "    print(\"Downloading file (this might take a few seconds)...\")\n",
    "    urllib.request.urlretrieve(\"https://msalicedatapublic.z5.web.core.windows.net/datasets/OrangeJuice/oj_large.csv\",\n",
    "                               file_name)\n",
    "oj_data = pd.read_csv(file_name)\n",
    "oj_data.head()"
   ],
   "id": "6091aaa345d1a502",
   "outputs": [
    {
     "name": "stdout",
     "output_type": "stream",
     "text": [
      "Downloading file (this might take a few seconds)...\n"
     ]
    },
    {
     "data": {
      "text/plain": [
       "   store      brand  week   logmove  feat  price     AGE60      EDUC   ETHNIC  \\\n",
       "0      2  tropicana    40  9.018695     0   3.87  0.232865  0.248935  0.11428   \n",
       "1      2  tropicana    46  8.723231     0   3.87  0.232865  0.248935  0.11428   \n",
       "2      2  tropicana    47  8.253228     0   3.87  0.232865  0.248935  0.11428   \n",
       "3      2  tropicana    48  8.987197     0   3.87  0.232865  0.248935  0.11428   \n",
       "4      2  tropicana    50  9.093357     0   3.87  0.232865  0.248935  0.11428   \n",
       "\n",
       "      INCOME   HHLARGE   WORKWOM   HVAL150  SSTRDIST   SSTRVOL  CPDIST5  \\\n",
       "0  10.553205  0.103953  0.303585  0.463887  2.110122  1.142857  1.92728   \n",
       "1  10.553205  0.103953  0.303585  0.463887  2.110122  1.142857  1.92728   \n",
       "2  10.553205  0.103953  0.303585  0.463887  2.110122  1.142857  1.92728   \n",
       "3  10.553205  0.103953  0.303585  0.463887  2.110122  1.142857  1.92728   \n",
       "4  10.553205  0.103953  0.303585  0.463887  2.110122  1.142857  1.92728   \n",
       "\n",
       "    CPWVOL5  \n",
       "0  0.376927  \n",
       "1  0.376927  \n",
       "2  0.376927  \n",
       "3  0.376927  \n",
       "4  0.376927  "
      ],
      "text/html": [
       "<div>\n",
       "<style scoped>\n",
       "    .dataframe tbody tr th:only-of-type {\n",
       "        vertical-align: middle;\n",
       "    }\n",
       "\n",
       "    .dataframe tbody tr th {\n",
       "        vertical-align: top;\n",
       "    }\n",
       "\n",
       "    .dataframe thead th {\n",
       "        text-align: right;\n",
       "    }\n",
       "</style>\n",
       "<table border=\"1\" class=\"dataframe\">\n",
       "  <thead>\n",
       "    <tr style=\"text-align: right;\">\n",
       "      <th></th>\n",
       "      <th>store</th>\n",
       "      <th>brand</th>\n",
       "      <th>week</th>\n",
       "      <th>logmove</th>\n",
       "      <th>feat</th>\n",
       "      <th>price</th>\n",
       "      <th>AGE60</th>\n",
       "      <th>EDUC</th>\n",
       "      <th>ETHNIC</th>\n",
       "      <th>INCOME</th>\n",
       "      <th>HHLARGE</th>\n",
       "      <th>WORKWOM</th>\n",
       "      <th>HVAL150</th>\n",
       "      <th>SSTRDIST</th>\n",
       "      <th>SSTRVOL</th>\n",
       "      <th>CPDIST5</th>\n",
       "      <th>CPWVOL5</th>\n",
       "    </tr>\n",
       "  </thead>\n",
       "  <tbody>\n",
       "    <tr>\n",
       "      <th>0</th>\n",
       "      <td>2</td>\n",
       "      <td>tropicana</td>\n",
       "      <td>40</td>\n",
       "      <td>9.018695</td>\n",
       "      <td>0</td>\n",
       "      <td>3.87</td>\n",
       "      <td>0.232865</td>\n",
       "      <td>0.248935</td>\n",
       "      <td>0.11428</td>\n",
       "      <td>10.553205</td>\n",
       "      <td>0.103953</td>\n",
       "      <td>0.303585</td>\n",
       "      <td>0.463887</td>\n",
       "      <td>2.110122</td>\n",
       "      <td>1.142857</td>\n",
       "      <td>1.92728</td>\n",
       "      <td>0.376927</td>\n",
       "    </tr>\n",
       "    <tr>\n",
       "      <th>1</th>\n",
       "      <td>2</td>\n",
       "      <td>tropicana</td>\n",
       "      <td>46</td>\n",
       "      <td>8.723231</td>\n",
       "      <td>0</td>\n",
       "      <td>3.87</td>\n",
       "      <td>0.232865</td>\n",
       "      <td>0.248935</td>\n",
       "      <td>0.11428</td>\n",
       "      <td>10.553205</td>\n",
       "      <td>0.103953</td>\n",
       "      <td>0.303585</td>\n",
       "      <td>0.463887</td>\n",
       "      <td>2.110122</td>\n",
       "      <td>1.142857</td>\n",
       "      <td>1.92728</td>\n",
       "      <td>0.376927</td>\n",
       "    </tr>\n",
       "    <tr>\n",
       "      <th>2</th>\n",
       "      <td>2</td>\n",
       "      <td>tropicana</td>\n",
       "      <td>47</td>\n",
       "      <td>8.253228</td>\n",
       "      <td>0</td>\n",
       "      <td>3.87</td>\n",
       "      <td>0.232865</td>\n",
       "      <td>0.248935</td>\n",
       "      <td>0.11428</td>\n",
       "      <td>10.553205</td>\n",
       "      <td>0.103953</td>\n",
       "      <td>0.303585</td>\n",
       "      <td>0.463887</td>\n",
       "      <td>2.110122</td>\n",
       "      <td>1.142857</td>\n",
       "      <td>1.92728</td>\n",
       "      <td>0.376927</td>\n",
       "    </tr>\n",
       "    <tr>\n",
       "      <th>3</th>\n",
       "      <td>2</td>\n",
       "      <td>tropicana</td>\n",
       "      <td>48</td>\n",
       "      <td>8.987197</td>\n",
       "      <td>0</td>\n",
       "      <td>3.87</td>\n",
       "      <td>0.232865</td>\n",
       "      <td>0.248935</td>\n",
       "      <td>0.11428</td>\n",
       "      <td>10.553205</td>\n",
       "      <td>0.103953</td>\n",
       "      <td>0.303585</td>\n",
       "      <td>0.463887</td>\n",
       "      <td>2.110122</td>\n",
       "      <td>1.142857</td>\n",
       "      <td>1.92728</td>\n",
       "      <td>0.376927</td>\n",
       "    </tr>\n",
       "    <tr>\n",
       "      <th>4</th>\n",
       "      <td>2</td>\n",
       "      <td>tropicana</td>\n",
       "      <td>50</td>\n",
       "      <td>9.093357</td>\n",
       "      <td>0</td>\n",
       "      <td>3.87</td>\n",
       "      <td>0.232865</td>\n",
       "      <td>0.248935</td>\n",
       "      <td>0.11428</td>\n",
       "      <td>10.553205</td>\n",
       "      <td>0.103953</td>\n",
       "      <td>0.303585</td>\n",
       "      <td>0.463887</td>\n",
       "      <td>2.110122</td>\n",
       "      <td>1.142857</td>\n",
       "      <td>1.92728</td>\n",
       "      <td>0.376927</td>\n",
       "    </tr>\n",
       "  </tbody>\n",
       "</table>\n",
       "</div>"
      ]
     },
     "execution_count": 124,
     "metadata": {},
     "output_type": "execute_result"
    }
   ],
   "execution_count": 124
  },
  {
   "metadata": {
    "ExecuteTime": {
     "end_time": "2024-10-23T16:02:09.038731Z",
     "start_time": "2024-10-23T16:02:08.992622Z"
    }
   },
   "cell_type": "code",
   "source": [
    "# Prepare data\n",
    "Y = oj_data['logmove'].values # target\n",
    "T = np.log(oj_data[\"price\"]).values # treatment effect\n",
    "scaler = StandardScaler()\n",
    "\n",
    "W1 = scaler.fit_transform(\n",
    "    oj_data[[c for c in oj_data.columns if c not in ['price', 'logmove', 'brand', 'week', 'store']]].values\n",
    ")\n",
    "W2 = pd.get_dummies(oj_data[['brand']]).values\n",
    "\n",
    "W = np.concatenate([W1, W2], axis=1)\n",
    "X = oj_data[['INCOME']].values"
   ],
   "id": "661de3f36263304",
   "outputs": [],
   "execution_count": 125
  },
  {
   "metadata": {},
   "cell_type": "markdown",
   "source": "#### 4.2 Train Estimator",
   "id": "36701883e3d52666"
  },
  {
   "metadata": {
    "ExecuteTime": {
     "end_time": "2024-10-23T16:03:01.040701Z",
     "start_time": "2024-10-23T16:03:01.033714Z"
    }
   },
   "cell_type": "code",
   "source": [
    "# Define some parameters\n",
    "n_trees = 1000\n",
    "min_leaf_size = 50\n",
    "max_depth = 20\n",
    "subsample_ratio = 0.04"
   ],
   "id": "4a38845662ea277d",
   "outputs": [],
   "execution_count": 126
  },
  {
   "metadata": {
    "ExecuteTime": {
     "end_time": "2024-10-23T16:04:21.728921Z",
     "start_time": "2024-10-23T16:04:21.706823Z"
    }
   },
   "cell_type": "code",
   "source": [
    "estimator = DMLOrthoForest(\n",
    "    n_trees = n_trees,\n",
    "    min_leaf_size = min_leaf_size,\n",
    "    max_depth = max_depth,\n",
    "    subsample_ratio = subsample_ratio,\n",
    "    model_T = Lasso(alpha = 0.1),\n",
    "    model_Y = Lasso(alpha = 0.1),\n",
    "    model_T_final = WeightedLassoCVWrapper(cv = 3),\n",
    "    model_Y_final = WeightedLassoCVWrapper(cv = 3)\n",
    ")"
   ],
   "id": "7b7d79ad08ead222",
   "outputs": [],
   "execution_count": 128
  },
  {
   "metadata": {
    "ExecuteTime": {
     "end_time": "2024-10-23T16:04:50.330825Z",
     "start_time": "2024-10-23T16:04:36.718482Z"
    }
   },
   "cell_type": "code",
   "source": "estimator.fit(Y = Y, T = T, W = W, X = X)",
   "id": "fa6811ba0cbcd336",
   "outputs": [
    {
     "name": "stderr",
     "output_type": "stream",
     "text": [
      "[Parallel(n_jobs=-1)]: Using backend LokyBackend with 8 concurrent workers.\n",
      "[Parallel(n_jobs=-1)]: Done  16 tasks      | elapsed:   11.0s\n",
      "[Parallel(n_jobs=-1)]: Done 408 tasks      | elapsed:   11.8s\n",
      "[Parallel(n_jobs=-1)]: Done 1000 out of 1000 | elapsed:   12.2s finished\n",
      "[Parallel(n_jobs=-1)]: Using backend LokyBackend with 8 concurrent workers.\n",
      "[Parallel(n_jobs=-1)]: Done  16 tasks      | elapsed:    0.0s\n",
      "[Parallel(n_jobs=-1)]: Done 824 tasks      | elapsed:    0.7s\n",
      "[Parallel(n_jobs=-1)]: Done 1000 out of 1000 | elapsed:    0.8s finished\n"
     ]
    },
    {
     "data": {
      "text/plain": [
       "<econml.orf._ortho_forest.DMLOrthoForest at 0x7fd44db77d60>"
      ]
     },
     "execution_count": 129,
     "metadata": {},
     "output_type": "execute_result"
    }
   ],
   "execution_count": 129
  },
  {
   "metadata": {
    "ExecuteTime": {
     "end_time": "2024-10-23T16:05:08.807872Z",
     "start_time": "2024-10-23T16:05:08.790143Z"
    }
   },
   "cell_type": "code",
   "source": [
    "min_income = 10.0\n",
    "max_income = 11.1\n",
    "delta = (max_income - min_income) / 100\n",
    "X_test = np.arange(min_income, max_income + delta - 0.001, delta).reshape(-1, 1)"
   ],
   "id": "69aa961771057c22",
   "outputs": [],
   "execution_count": 130
  },
  {
   "metadata": {
    "ExecuteTime": {
     "end_time": "2024-10-23T16:05:47.599367Z",
     "start_time": "2024-10-23T16:05:17.516410Z"
    }
   },
   "cell_type": "code",
   "source": [
    "# Calculate marginal treatment effects\n",
    "treatment_effects = estimator.const_marginal_effect(X_test)"
   ],
   "id": "b0e3f8da5206a57b",
   "outputs": [
    {
     "name": "stderr",
     "output_type": "stream",
     "text": [
      "[Parallel(n_jobs=-1)]: Using backend LokyBackend with 8 concurrent workers.\n",
      "[Parallel(n_jobs=-1)]: Done  16 tasks      | elapsed:   21.7s\n",
      "[Parallel(n_jobs=-1)]: Done 101 out of 101 | elapsed:   29.9s finished\n"
     ]
    }
   ],
   "execution_count": 131
  },
  {
   "metadata": {
    "ExecuteTime": {
     "end_time": "2024-10-23T16:06:00.588089Z",
     "start_time": "2024-10-23T16:05:47.602845Z"
    }
   },
   "cell_type": "code",
   "source": [
    "# Calculate default (95%) marginal confidence intervals for the test data\n",
    "te_upper, te_lower = estimator.const_marginal_effect_interval(X_test)"
   ],
   "id": "cd8fddf9b671d611",
   "outputs": [
    {
     "name": "stderr",
     "output_type": "stream",
     "text": [
      "[Parallel(n_jobs=-1)]: Using backend LokyBackend with 8 concurrent workers.\n",
      "[Parallel(n_jobs=-1)]: Done  16 tasks      | elapsed:    1.9s\n",
      "[Parallel(n_jobs=-1)]: Done 101 out of 101 | elapsed:   12.7s finished\n"
     ]
    }
   ],
   "execution_count": 132
  },
  {
   "metadata": {
    "ExecuteTime": {
     "end_time": "2024-10-23T16:06:56.892119Z",
     "start_time": "2024-10-23T16:06:56.865581Z"
    }
   },
   "cell_type": "code",
   "source": [
    "estimator2 = CausalForestDML(\n",
    "    model_y = WeightedLassoCVWrapper(cv = 3),\n",
    "    model_t = WeightedLassoCVWrapper(cv = 3),\n",
    "    n_estimators = n_trees,\n",
    "    min_samples_leaf = min_leaf_size,\n",
    "    max_depth = max_depth,\n",
    "    max_samples = subsample_ratio/2,\n",
    "    random_state = 42\n",
    ")"
   ],
   "id": "8beecf54405a765f",
   "outputs": [],
   "execution_count": 133
  },
  {
   "metadata": {
    "ExecuteTime": {
     "end_time": "2024-10-23T16:07:06.271376Z",
     "start_time": "2024-10-23T16:07:03.471486Z"
    }
   },
   "cell_type": "code",
   "source": "estimator2.fit(Y = Y, T = T, X = X, W = W)",
   "id": "383c41d9abe80d35",
   "outputs": [
    {
     "data": {
      "text/plain": [
       "<econml.dml.causal_forest.CausalForestDML at 0x7fd44db77760>"
      ]
     },
     "execution_count": 134,
     "metadata": {},
     "output_type": "execute_result"
    }
   ],
   "execution_count": 134
  },
  {
   "metadata": {
    "ExecuteTime": {
     "end_time": "2024-10-23T16:07:22.293640Z",
     "start_time": "2024-10-23T16:07:22.012Z"
    }
   },
   "cell_type": "code",
   "source": [
    "treatment_effects2 = estimator2.effect(X_test)\n",
    "te_lower2, te_upper2 = estimator2.effect_interval(X_test)"
   ],
   "id": "8c19886facd62ed2",
   "outputs": [],
   "execution_count": 135
  },
  {
   "metadata": {},
   "cell_type": "markdown",
   "source": "#### 4.3 Performance Visulization",
   "id": "7b1381a0d0258b4"
  },
  {
   "metadata": {
    "ExecuteTime": {
     "end_time": "2024-10-23T16:12:44.711246Z",
     "start_time": "2024-10-23T16:12:44.449508Z"
    }
   },
   "cell_type": "code",
   "source": [
    "fig, (ax1, ax2) = plt.subplots(1, 2, figsize = (10, 5))\n",
    "\n",
    "ax1.set_title('Continuous Orthogonal Random Forest')\n",
    "ax1.plot(\n",
    "    X_test.flatten(), treatment_effects, label=\"OJ Elasticity\"\n",
    ")\n",
    "ax1.fill_between(\n",
    "    X_test.flatten(), \n",
    "    te_lower, te_upper,\n",
    "    label = \"95% BLB CI\", \n",
    "    alpha = 0.3\n",
    ")\n",
    "ax1.set_ylabel('Orange Juice Elasticity')\n",
    "ax1.set_xlabel(r'$\\log$(Income)')\n",
    "for spine in ax1.spines.values():\n",
    "    spine.set_visible(False)\n",
    "ax1.grid(False)\n",
    "ax1.yaxis.grid(True, ls = ':', alpha = 0.5) \n",
    "ax1.legend()\n",
    "\n",
    "ax2.set_title('Causal Forest')\n",
    "ax2.plot(\n",
    "    X_test.flatten(), treatment_effects2, label = \"OJ Elasticity\"\n",
    ")\n",
    "expected_te = np.array([exp_te(x_i) for x_i in X_test])\n",
    "ax2.fill_between(\n",
    "    X_test.flatten(), \n",
    "    te_lower2, te_upper2, \n",
    "    label=\"95% BLB CI\",\n",
    "    alpha=0.3\n",
    ")\n",
    "ax2.set_ylabel('Orange Juice Elasticity')\n",
    "ax2.set_xlabel(r'$\\log$(Income)')\n",
    "for spine in ax2.spines.values():\n",
    "    spine.set_visible(False)\n",
    "ax2.grid(False)\n",
    "ax2.yaxis.grid(True, ls = ':', alpha = 0.5) \n",
    "ax2.legend()\n",
    "\n",
    "plt.suptitle('Causal Machine learning with Orange Juice Elasticity')\n",
    "plt.show()"
   ],
   "id": "6df33ac9e57bb9ff",
   "outputs": [
    {
     "data": {
      "text/plain": [
       "<Figure size 1000x500 with 2 Axes>"
      ],
      "image/png": "[encoded data removed]"
     },
     "metadata": {},
     "output_type": "display_data"
    }
   ],
   "execution_count": 138
  }
 ],
 "metadata": {
  "kernelspec": {
   "display_name": "Python 3",
   "language": "python",
   "name": "python3"
  },
  "language_info": {
   "codemirror_mode": {
    "name": "ipython",
    "version": 2
   },
   "file_extension": ".py",
   "mimetype": "text/x-python",
   "name": "python",
   "nbconvert_exporter": "python",
   "pygments_lexer": "ipython2",
   "version": "2.7.6"
  }
 },
 "nbformat": 4,
 "nbformat_minor": 5
}
